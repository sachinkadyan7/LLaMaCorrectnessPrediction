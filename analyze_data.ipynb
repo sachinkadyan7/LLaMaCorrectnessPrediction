{
 "cells": [
  {
   "cell_type": "code",
   "execution_count": 1,
   "id": "80337356-0a7a-4b33-81ec-7db07d11b659",
   "metadata": {},
   "outputs": [],
   "source": [
    "import json\n",
    "import pandas as pd\n",
    "from pathlib import Path"
   ]
  },
  {
   "cell_type": "code",
   "execution_count": 2,
   "id": "ed453739-5ab0-4c31-a6f7-611c4868528b",
   "metadata": {},
   "outputs": [],
   "source": [
    "root = Path.home() / \"Downloads/mmlu_output/\"\n",
    "\n",
    "choices = ('A', 'B', 'C', 'D')\n",
    "files_list = []\n",
    "predictions_list = []\n",
    "correct_list = []\n",
    "for f in root.glob('*/*/attentions/*_attentions.pt'):\n",
    "    if f.is_file() and f.stat().st_size > 2e6:  # Exclude the empty files\n",
    "        files_list.append(f.relative_to(root))\n",
    "        q_id = str(f.stem).split('_')[0]\n",
    "        ans_file = next(iter(f.parent.parent.glob(\"*.json\")))\n",
    "        with open(ans_file, \"r\") as infile:\n",
    "            ans_json = json.load(infile)\n",
    "            full_ans = ans_json[q_id][\"Full Answer\"]\n",
    "            pred = ans_json[q_id][\"Predicted Answer\"]\n",
    "            correct = ans_json[q_id][\"Correct Answer\"]\n",
    "            if pred not in choices and full_ans[0] in choices:\n",
    "                pred = full_ans[0]\n",
    "        predictions_list.append(pred)\n",
    "        correct_list.append(correct)\n",
    "\n",
    "df = pd.DataFrame()\n",
    "df['filename'] = files_list\n",
    "df['prediction'] = predictions_list\n",
    "df['correct'] = correct_list"
   ]
  },
  {
   "cell_type": "code",
   "execution_count": 3,
   "id": "273ffcd6-b020-405c-add0-7749027a3377",
   "metadata": {},
   "outputs": [
    {
     "data": {
      "text/html": [
       "<div>\n",
       "<style scoped>\n",
       "    .dataframe tbody tr th:only-of-type {\n",
       "        vertical-align: middle;\n",
       "    }\n",
       "\n",
       "    .dataframe tbody tr th {\n",
       "        vertical-align: top;\n",
       "    }\n",
       "\n",
       "    .dataframe thead th {\n",
       "        text-align: right;\n",
       "    }\n",
       "</style>\n",
       "<table border=\"1\" class=\"dataframe\">\n",
       "  <thead>\n",
       "    <tr style=\"text-align: right;\">\n",
       "      <th></th>\n",
       "      <th>filename</th>\n",
       "      <th>prediction</th>\n",
       "      <th>correct</th>\n",
       "      <th>correctness</th>\n",
       "      <th>dataset</th>\n",
       "    </tr>\n",
       "  </thead>\n",
       "  <tbody>\n",
       "    <tr>\n",
       "      <th>0</th>\n",
       "      <td>auxiliary_train\\arc_hard\\attentions\\0_attentio...</td>\n",
       "      <td>B</td>\n",
       "      <td>A</td>\n",
       "      <td>False</td>\n",
       "      <td>arc_hard</td>\n",
       "    </tr>\n",
       "    <tr>\n",
       "      <th>1</th>\n",
       "      <td>auxiliary_train\\arc_hard\\attentions\\1000_atten...</td>\n",
       "      <td>A</td>\n",
       "      <td>A</td>\n",
       "      <td>True</td>\n",
       "      <td>arc_hard</td>\n",
       "    </tr>\n",
       "    <tr>\n",
       "      <th>2</th>\n",
       "      <td>auxiliary_train\\arc_hard\\attentions\\1001_atten...</td>\n",
       "      <td>A</td>\n",
       "      <td>B</td>\n",
       "      <td>False</td>\n",
       "      <td>arc_hard</td>\n",
       "    </tr>\n",
       "    <tr>\n",
       "      <th>3</th>\n",
       "      <td>auxiliary_train\\arc_hard\\attentions\\1002_atten...</td>\n",
       "      <td>A</td>\n",
       "      <td>A</td>\n",
       "      <td>True</td>\n",
       "      <td>arc_hard</td>\n",
       "    </tr>\n",
       "    <tr>\n",
       "      <th>4</th>\n",
       "      <td>auxiliary_train\\arc_hard\\attentions\\1003_atten...</td>\n",
       "      <td>A</td>\n",
       "      <td>A</td>\n",
       "      <td>True</td>\n",
       "      <td>arc_hard</td>\n",
       "    </tr>\n",
       "    <tr>\n",
       "      <th>...</th>\n",
       "      <td>...</td>\n",
       "      <td>...</td>\n",
       "      <td>...</td>\n",
       "      <td>...</td>\n",
       "      <td>...</td>\n",
       "    </tr>\n",
       "    <tr>\n",
       "      <th>1730</th>\n",
       "      <td>auxiliary_train\\science_elementary\\attentions\\...</td>\n",
       "      <td>B</td>\n",
       "      <td>B</td>\n",
       "      <td>True</td>\n",
       "      <td>science_elementary</td>\n",
       "    </tr>\n",
       "    <tr>\n",
       "      <th>1731</th>\n",
       "      <td>auxiliary_train\\science_elementary\\attentions\\...</td>\n",
       "      <td>C</td>\n",
       "      <td>C</td>\n",
       "      <td>True</td>\n",
       "      <td>science_elementary</td>\n",
       "    </tr>\n",
       "    <tr>\n",
       "      <th>1732</th>\n",
       "      <td>auxiliary_train\\science_elementary\\attentions\\...</td>\n",
       "      <td>C</td>\n",
       "      <td>C</td>\n",
       "      <td>True</td>\n",
       "      <td>science_elementary</td>\n",
       "    </tr>\n",
       "    <tr>\n",
       "      <th>1733</th>\n",
       "      <td>auxiliary_train\\science_elementary\\attentions\\...</td>\n",
       "      <td>B</td>\n",
       "      <td>B</td>\n",
       "      <td>True</td>\n",
       "      <td>science_elementary</td>\n",
       "    </tr>\n",
       "    <tr>\n",
       "      <th>1734</th>\n",
       "      <td>auxiliary_train\\science_elementary\\attentions\\...</td>\n",
       "      <td>B</td>\n",
       "      <td>D</td>\n",
       "      <td>False</td>\n",
       "      <td>science_elementary</td>\n",
       "    </tr>\n",
       "  </tbody>\n",
       "</table>\n",
       "<p>1735 rows × 5 columns</p>\n",
       "</div>"
      ],
      "text/plain": [
       "                                               filename prediction correct  \\\n",
       "0     auxiliary_train\\arc_hard\\attentions\\0_attentio...          B       A   \n",
       "1     auxiliary_train\\arc_hard\\attentions\\1000_atten...          A       A   \n",
       "2     auxiliary_train\\arc_hard\\attentions\\1001_atten...          A       B   \n",
       "3     auxiliary_train\\arc_hard\\attentions\\1002_atten...          A       A   \n",
       "4     auxiliary_train\\arc_hard\\attentions\\1003_atten...          A       A   \n",
       "...                                                 ...        ...     ...   \n",
       "1730  auxiliary_train\\science_elementary\\attentions\\...          B       B   \n",
       "1731  auxiliary_train\\science_elementary\\attentions\\...          C       C   \n",
       "1732  auxiliary_train\\science_elementary\\attentions\\...          C       C   \n",
       "1733  auxiliary_train\\science_elementary\\attentions\\...          B       B   \n",
       "1734  auxiliary_train\\science_elementary\\attentions\\...          B       D   \n",
       "\n",
       "      correctness             dataset  \n",
       "0           False            arc_hard  \n",
       "1            True            arc_hard  \n",
       "2           False            arc_hard  \n",
       "3            True            arc_hard  \n",
       "4            True            arc_hard  \n",
       "...           ...                 ...  \n",
       "1730         True  science_elementary  \n",
       "1731         True  science_elementary  \n",
       "1732         True  science_elementary  \n",
       "1733         True  science_elementary  \n",
       "1734        False  science_elementary  \n",
       "\n",
       "[1735 rows x 5 columns]"
      ]
     },
     "execution_count": 3,
     "metadata": {},
     "output_type": "execute_result"
    }
   ],
   "source": [
    "df['correctness'] = df['prediction'] == df['correct']\n",
    "df['dataset'] = df['filename'].apply(lambda filename: str(Path(filename).parent.parent.name))\n",
    "df"
   ]
  },
  {
   "cell_type": "code",
   "execution_count": 4,
   "id": "d8c6d427-8514-42e3-ab22-4846d68c7c46",
   "metadata": {},
   "outputs": [
    {
     "data": {
      "text/plain": [
       "np.float64(0.7285302593659942)"
      ]
     },
     "execution_count": 4,
     "metadata": {},
     "output_type": "execute_result"
    }
   ],
   "source": [
    "# Accuracy overall\n",
    "df['correctness'].mean()"
   ]
  },
  {
   "cell_type": "code",
   "execution_count": 5,
   "id": "bdbb5272-90f8-4386-8cd2-1425c3a323a9",
   "metadata": {},
   "outputs": [
    {
     "data": {
      "text/plain": [
       "dataset\n",
       "arc_hard              0.679785\n",
       "science_elementary    0.816856\n",
       "Name: correctness, dtype: float64"
      ]
     },
     "execution_count": 5,
     "metadata": {},
     "output_type": "execute_result"
    }
   ],
   "source": [
    "# Accuracy per dataset\n",
    "df.groupby('dataset')['correctness'].mean()"
   ]
  },
  {
   "cell_type": "code",
   "execution_count": 6,
   "id": "4bb4a168-f1e1-49f0-a8c2-23b284642b65",
   "metadata": {},
   "outputs": [
    {
     "data": {
      "text/plain": [
       "dataset\n",
       "arc_hard              1118\n",
       "science_elementary     617\n",
       "Name: count, dtype: int64"
      ]
     },
     "execution_count": 6,
     "metadata": {},
     "output_type": "execute_result"
    }
   ],
   "source": [
    "df['dataset'].value_counts()"
   ]
  },
  {
   "cell_type": "code",
   "execution_count": null,
   "id": "880f94ad-510f-4585-98cc-47984e9deed1",
   "metadata": {},
   "outputs": [],
   "source": []
  }
 ],
 "metadata": {
  "kernelspec": {
   "display_name": "Python 3 (ipykernel)",
   "language": "python",
   "name": "python3"
  },
  "language_info": {
   "codemirror_mode": {
    "name": "ipython",
    "version": 3
   },
   "file_extension": ".py",
   "mimetype": "text/x-python",
   "name": "python",
   "nbconvert_exporter": "python",
   "pygments_lexer": "ipython3",
   "version": "3.9.0"
  }
 },
 "nbformat": 4,
 "nbformat_minor": 5
}
