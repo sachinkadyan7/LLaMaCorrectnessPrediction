{
 "cells": [
  {
   "cell_type": "code",
   "execution_count": 1,
   "id": "7d8fb0b4-a0fd-4489-8b07-acda5f4e0dae",
   "metadata": {},
   "outputs": [],
   "source": [
    "import torch\n",
    "import torch.nn as nn\n",
    "import torchvision\n",
    "from torchvision.models import convnext"
   ]
  },
  {
   "cell_type": "code",
   "execution_count": 2,
   "id": "0a2001f3-8a56-410d-a76b-3f141a2876d7",
   "metadata": {
    "scrolled": true
   },
   "outputs": [
    {
     "data": {
      "text/plain": [
       "ConvNeXt(\n",
       "  (features): Sequential(\n",
       "    (0): Conv2dNormActivation(\n",
       "      (0): Conv2d(3, 96, kernel_size=(4, 4), stride=(4, 4))\n",
       "      (1): LayerNorm2d((96,), eps=1e-06, elementwise_affine=True)\n",
       "    )\n",
       "    (1): Sequential(\n",
       "      (0): CNBlock(\n",
       "        (block): Sequential(\n",
       "          (0): Conv2d(96, 96, kernel_size=(7, 7), stride=(1, 1), padding=(3, 3), groups=96)\n",
       "          (1): Permute()\n",
       "          (2): LayerNorm((96,), eps=1e-06, elementwise_affine=True)\n",
       "          (3): Linear(in_features=96, out_features=384, bias=True)\n",
       "          (4): GELU(approximate='none')\n",
       "          (5): Linear(in_features=384, out_features=96, bias=True)\n",
       "          (6): Permute()\n",
       "        )\n",
       "        (stochastic_depth): StochasticDepth(p=0.0, mode=row)\n",
       "      )\n",
       "      (1): CNBlock(\n",
       "        (block): Sequential(\n",
       "          (0): Conv2d(96, 96, kernel_size=(7, 7), stride=(1, 1), padding=(3, 3), groups=96)\n",
       "          (1): Permute()\n",
       "          (2): LayerNorm((96,), eps=1e-06, elementwise_affine=True)\n",
       "          (3): Linear(in_features=96, out_features=384, bias=True)\n",
       "          (4): GELU(approximate='none')\n",
       "          (5): Linear(in_features=384, out_features=96, bias=True)\n",
       "          (6): Permute()\n",
       "        )\n",
       "        (stochastic_depth): StochasticDepth(p=0.0058823529411764705, mode=row)\n",
       "      )\n",
       "      (2): CNBlock(\n",
       "        (block): Sequential(\n",
       "          (0): Conv2d(96, 96, kernel_size=(7, 7), stride=(1, 1), padding=(3, 3), groups=96)\n",
       "          (1): Permute()\n",
       "          (2): LayerNorm((96,), eps=1e-06, elementwise_affine=True)\n",
       "          (3): Linear(in_features=96, out_features=384, bias=True)\n",
       "          (4): GELU(approximate='none')\n",
       "          (5): Linear(in_features=384, out_features=96, bias=True)\n",
       "          (6): Permute()\n",
       "        )\n",
       "        (stochastic_depth): StochasticDepth(p=0.011764705882352941, mode=row)\n",
       "      )\n",
       "    )\n",
       "    (2): Sequential(\n",
       "      (0): LayerNorm2d((96,), eps=1e-06, elementwise_affine=True)\n",
       "      (1): Conv2d(96, 192, kernel_size=(2, 2), stride=(2, 2))\n",
       "    )\n",
       "    (3): Sequential(\n",
       "      (0): CNBlock(\n",
       "        (block): Sequential(\n",
       "          (0): Conv2d(192, 192, kernel_size=(7, 7), stride=(1, 1), padding=(3, 3), groups=192)\n",
       "          (1): Permute()\n",
       "          (2): LayerNorm((192,), eps=1e-06, elementwise_affine=True)\n",
       "          (3): Linear(in_features=192, out_features=768, bias=True)\n",
       "          (4): GELU(approximate='none')\n",
       "          (5): Linear(in_features=768, out_features=192, bias=True)\n",
       "          (6): Permute()\n",
       "        )\n",
       "        (stochastic_depth): StochasticDepth(p=0.017647058823529415, mode=row)\n",
       "      )\n",
       "      (1): CNBlock(\n",
       "        (block): Sequential(\n",
       "          (0): Conv2d(192, 192, kernel_size=(7, 7), stride=(1, 1), padding=(3, 3), groups=192)\n",
       "          (1): Permute()\n",
       "          (2): LayerNorm((192,), eps=1e-06, elementwise_affine=True)\n",
       "          (3): Linear(in_features=192, out_features=768, bias=True)\n",
       "          (4): GELU(approximate='none')\n",
       "          (5): Linear(in_features=768, out_features=192, bias=True)\n",
       "          (6): Permute()\n",
       "        )\n",
       "        (stochastic_depth): StochasticDepth(p=0.023529411764705882, mode=row)\n",
       "      )\n",
       "      (2): CNBlock(\n",
       "        (block): Sequential(\n",
       "          (0): Conv2d(192, 192, kernel_size=(7, 7), stride=(1, 1), padding=(3, 3), groups=192)\n",
       "          (1): Permute()\n",
       "          (2): LayerNorm((192,), eps=1e-06, elementwise_affine=True)\n",
       "          (3): Linear(in_features=192, out_features=768, bias=True)\n",
       "          (4): GELU(approximate='none')\n",
       "          (5): Linear(in_features=768, out_features=192, bias=True)\n",
       "          (6): Permute()\n",
       "        )\n",
       "        (stochastic_depth): StochasticDepth(p=0.029411764705882353, mode=row)\n",
       "      )\n",
       "    )\n",
       "    (4): Sequential(\n",
       "      (0): LayerNorm2d((192,), eps=1e-06, elementwise_affine=True)\n",
       "      (1): Conv2d(192, 384, kernel_size=(2, 2), stride=(2, 2))\n",
       "    )\n",
       "    (5): Sequential(\n",
       "      (0): CNBlock(\n",
       "        (block): Sequential(\n",
       "          (0): Conv2d(384, 384, kernel_size=(7, 7), stride=(1, 1), padding=(3, 3), groups=384)\n",
       "          (1): Permute()\n",
       "          (2): LayerNorm((384,), eps=1e-06, elementwise_affine=True)\n",
       "          (3): Linear(in_features=384, out_features=1536, bias=True)\n",
       "          (4): GELU(approximate='none')\n",
       "          (5): Linear(in_features=1536, out_features=384, bias=True)\n",
       "          (6): Permute()\n",
       "        )\n",
       "        (stochastic_depth): StochasticDepth(p=0.03529411764705883, mode=row)\n",
       "      )\n",
       "      (1): CNBlock(\n",
       "        (block): Sequential(\n",
       "          (0): Conv2d(384, 384, kernel_size=(7, 7), stride=(1, 1), padding=(3, 3), groups=384)\n",
       "          (1): Permute()\n",
       "          (2): LayerNorm((384,), eps=1e-06, elementwise_affine=True)\n",
       "          (3): Linear(in_features=384, out_features=1536, bias=True)\n",
       "          (4): GELU(approximate='none')\n",
       "          (5): Linear(in_features=1536, out_features=384, bias=True)\n",
       "          (6): Permute()\n",
       "        )\n",
       "        (stochastic_depth): StochasticDepth(p=0.0411764705882353, mode=row)\n",
       "      )\n",
       "      (2): CNBlock(\n",
       "        (block): Sequential(\n",
       "          (0): Conv2d(384, 384, kernel_size=(7, 7), stride=(1, 1), padding=(3, 3), groups=384)\n",
       "          (1): Permute()\n",
       "          (2): LayerNorm((384,), eps=1e-06, elementwise_affine=True)\n",
       "          (3): Linear(in_features=384, out_features=1536, bias=True)\n",
       "          (4): GELU(approximate='none')\n",
       "          (5): Linear(in_features=1536, out_features=384, bias=True)\n",
       "          (6): Permute()\n",
       "        )\n",
       "        (stochastic_depth): StochasticDepth(p=0.047058823529411764, mode=row)\n",
       "      )\n",
       "      (3): CNBlock(\n",
       "        (block): Sequential(\n",
       "          (0): Conv2d(384, 384, kernel_size=(7, 7), stride=(1, 1), padding=(3, 3), groups=384)\n",
       "          (1): Permute()\n",
       "          (2): LayerNorm((384,), eps=1e-06, elementwise_affine=True)\n",
       "          (3): Linear(in_features=384, out_features=1536, bias=True)\n",
       "          (4): GELU(approximate='none')\n",
       "          (5): Linear(in_features=1536, out_features=384, bias=True)\n",
       "          (6): Permute()\n",
       "        )\n",
       "        (stochastic_depth): StochasticDepth(p=0.052941176470588235, mode=row)\n",
       "      )\n",
       "      (4): CNBlock(\n",
       "        (block): Sequential(\n",
       "          (0): Conv2d(384, 384, kernel_size=(7, 7), stride=(1, 1), padding=(3, 3), groups=384)\n",
       "          (1): Permute()\n",
       "          (2): LayerNorm((384,), eps=1e-06, elementwise_affine=True)\n",
       "          (3): Linear(in_features=384, out_features=1536, bias=True)\n",
       "          (4): GELU(approximate='none')\n",
       "          (5): Linear(in_features=1536, out_features=384, bias=True)\n",
       "          (6): Permute()\n",
       "        )\n",
       "        (stochastic_depth): StochasticDepth(p=0.058823529411764705, mode=row)\n",
       "      )\n",
       "      (5): CNBlock(\n",
       "        (block): Sequential(\n",
       "          (0): Conv2d(384, 384, kernel_size=(7, 7), stride=(1, 1), padding=(3, 3), groups=384)\n",
       "          (1): Permute()\n",
       "          (2): LayerNorm((384,), eps=1e-06, elementwise_affine=True)\n",
       "          (3): Linear(in_features=384, out_features=1536, bias=True)\n",
       "          (4): GELU(approximate='none')\n",
       "          (5): Linear(in_features=1536, out_features=384, bias=True)\n",
       "          (6): Permute()\n",
       "        )\n",
       "        (stochastic_depth): StochasticDepth(p=0.06470588235294118, mode=row)\n",
       "      )\n",
       "      (6): CNBlock(\n",
       "        (block): Sequential(\n",
       "          (0): Conv2d(384, 384, kernel_size=(7, 7), stride=(1, 1), padding=(3, 3), groups=384)\n",
       "          (1): Permute()\n",
       "          (2): LayerNorm((384,), eps=1e-06, elementwise_affine=True)\n",
       "          (3): Linear(in_features=384, out_features=1536, bias=True)\n",
       "          (4): GELU(approximate='none')\n",
       "          (5): Linear(in_features=1536, out_features=384, bias=True)\n",
       "          (6): Permute()\n",
       "        )\n",
       "        (stochastic_depth): StochasticDepth(p=0.07058823529411766, mode=row)\n",
       "      )\n",
       "      (7): CNBlock(\n",
       "        (block): Sequential(\n",
       "          (0): Conv2d(384, 384, kernel_size=(7, 7), stride=(1, 1), padding=(3, 3), groups=384)\n",
       "          (1): Permute()\n",
       "          (2): LayerNorm((384,), eps=1e-06, elementwise_affine=True)\n",
       "          (3): Linear(in_features=384, out_features=1536, bias=True)\n",
       "          (4): GELU(approximate='none')\n",
       "          (5): Linear(in_features=1536, out_features=384, bias=True)\n",
       "          (6): Permute()\n",
       "        )\n",
       "        (stochastic_depth): StochasticDepth(p=0.07647058823529412, mode=row)\n",
       "      )\n",
       "      (8): CNBlock(\n",
       "        (block): Sequential(\n",
       "          (0): Conv2d(384, 384, kernel_size=(7, 7), stride=(1, 1), padding=(3, 3), groups=384)\n",
       "          (1): Permute()\n",
       "          (2): LayerNorm((384,), eps=1e-06, elementwise_affine=True)\n",
       "          (3): Linear(in_features=384, out_features=1536, bias=True)\n",
       "          (4): GELU(approximate='none')\n",
       "          (5): Linear(in_features=1536, out_features=384, bias=True)\n",
       "          (6): Permute()\n",
       "        )\n",
       "        (stochastic_depth): StochasticDepth(p=0.0823529411764706, mode=row)\n",
       "      )\n",
       "    )\n",
       "    (6): Sequential(\n",
       "      (0): LayerNorm2d((384,), eps=1e-06, elementwise_affine=True)\n",
       "      (1): Conv2d(384, 768, kernel_size=(2, 2), stride=(2, 2))\n",
       "    )\n",
       "    (7): Sequential(\n",
       "      (0): CNBlock(\n",
       "        (block): Sequential(\n",
       "          (0): Conv2d(768, 768, kernel_size=(7, 7), stride=(1, 1), padding=(3, 3), groups=768)\n",
       "          (1): Permute()\n",
       "          (2): LayerNorm((768,), eps=1e-06, elementwise_affine=True)\n",
       "          (3): Linear(in_features=768, out_features=3072, bias=True)\n",
       "          (4): GELU(approximate='none')\n",
       "          (5): Linear(in_features=3072, out_features=768, bias=True)\n",
       "          (6): Permute()\n",
       "        )\n",
       "        (stochastic_depth): StochasticDepth(p=0.08823529411764706, mode=row)\n",
       "      )\n",
       "      (1): CNBlock(\n",
       "        (block): Sequential(\n",
       "          (0): Conv2d(768, 768, kernel_size=(7, 7), stride=(1, 1), padding=(3, 3), groups=768)\n",
       "          (1): Permute()\n",
       "          (2): LayerNorm((768,), eps=1e-06, elementwise_affine=True)\n",
       "          (3): Linear(in_features=768, out_features=3072, bias=True)\n",
       "          (4): GELU(approximate='none')\n",
       "          (5): Linear(in_features=3072, out_features=768, bias=True)\n",
       "          (6): Permute()\n",
       "        )\n",
       "        (stochastic_depth): StochasticDepth(p=0.09411764705882353, mode=row)\n",
       "      )\n",
       "      (2): CNBlock(\n",
       "        (block): Sequential(\n",
       "          (0): Conv2d(768, 768, kernel_size=(7, 7), stride=(1, 1), padding=(3, 3), groups=768)\n",
       "          (1): Permute()\n",
       "          (2): LayerNorm((768,), eps=1e-06, elementwise_affine=True)\n",
       "          (3): Linear(in_features=768, out_features=3072, bias=True)\n",
       "          (4): GELU(approximate='none')\n",
       "          (5): Linear(in_features=3072, out_features=768, bias=True)\n",
       "          (6): Permute()\n",
       "        )\n",
       "        (stochastic_depth): StochasticDepth(p=0.1, mode=row)\n",
       "      )\n",
       "    )\n",
       "  )\n",
       "  (avgpool): AdaptiveAvgPool2d(output_size=1)\n",
       "  (classifier): Sequential(\n",
       "    (0): LayerNorm2d((768,), eps=1e-06, elementwise_affine=True)\n",
       "    (1): Flatten(start_dim=1, end_dim=-1)\n",
       "    (2): Linear(in_features=768, out_features=1000, bias=True)\n",
       "  )\n",
       ")"
      ]
     },
     "execution_count": 2,
     "metadata": {},
     "output_type": "execute_result"
    }
   ],
   "source": [
    "model = torchvision.models.convnext_tiny(weights=convnext.ConvNeXt_Tiny_Weights.DEFAULT)\n",
    "model"
   ]
  },
  {
   "cell_type": "code",
   "execution_count": 3,
   "id": "4f5b8a6f-eda3-4ee8-ad4a-7b1206a7622f",
   "metadata": {},
   "outputs": [
    {
     "data": {
      "text/plain": [
       "tensor([[[0.0510, 0.0667, 0.0588,  ..., 0.0745, 0.0784, 0.0706],\n",
       "         [0.0627, 0.0706, 0.0588,  ..., 0.0745, 0.0902, 0.0824],\n",
       "         [0.0667, 0.0706, 0.0667,  ..., 0.0667, 0.0902, 0.0863],\n",
       "         ...,\n",
       "         [0.4039, 0.2824, 0.2235,  ..., 0.2510, 0.3412, 0.4863],\n",
       "         [0.4353, 0.3373, 0.2863,  ..., 0.2588, 0.2980, 0.3725],\n",
       "         [0.3686, 0.2784, 0.2627,  ..., 0.2118, 0.2235, 0.2980]],\n",
       "\n",
       "        [[0.1176, 0.1333, 0.1137,  ..., 0.1216, 0.1294, 0.1216],\n",
       "         [0.1059, 0.1137, 0.1020,  ..., 0.1216, 0.1373, 0.1294],\n",
       "         [0.0902, 0.0941, 0.0902,  ..., 0.1137, 0.1373, 0.1333],\n",
       "         ...,\n",
       "         [0.4863, 0.3843, 0.3451,  ..., 0.3686, 0.4196, 0.5294],\n",
       "         [0.4824, 0.3922, 0.3647,  ..., 0.3765, 0.3569, 0.4000],\n",
       "         [0.4157, 0.3333, 0.3412,  ..., 0.3294, 0.2824, 0.3255]],\n",
       "\n",
       "        [[0.0471, 0.0706, 0.0549,  ..., 0.0667, 0.0902, 0.0824],\n",
       "         [0.0745, 0.0902, 0.0784,  ..., 0.0431, 0.0588, 0.0510],\n",
       "         [0.0745, 0.0784, 0.0745,  ..., 0.0353, 0.0588, 0.0549],\n",
       "         ...,\n",
       "         [0.3569, 0.2471, 0.2196,  ..., 0.2588, 0.2824, 0.4039],\n",
       "         [0.3882, 0.3020, 0.2667,  ..., 0.2667, 0.2275, 0.2784],\n",
       "         [0.3216, 0.2431, 0.2431,  ..., 0.2196, 0.1529, 0.2039]]])"
      ]
     },
     "execution_count": 3,
     "metadata": {},
     "output_type": "execute_result"
    }
   ],
   "source": [
    "from torchvision import transforms\n",
    "preprocess = transforms.Compose([\n",
    "    transforms.ToTensor(),\n",
    "])\n",
    "from PIL import Image\n",
    "input_image = Image.open(\"dog.jpg\")\n",
    "input_tensor = preprocess(input_image)\n",
    "input_tensor"
   ]
  },
  {
   "cell_type": "code",
   "execution_count": 4,
   "id": "7b2a993c-666f-4b27-adfd-e0f878bcfb5b",
   "metadata": {
    "scrolled": true
   },
   "outputs": [
    {
     "name": "stdout",
     "output_type": "stream",
     "text": [
      "tensor([ 4.6050e-02,  6.3773e-01, -3.8926e-01, -5.3729e-01, -4.6078e-01,\n",
      "        -1.0015e-01,  2.7645e-01,  6.8374e-01,  7.2550e-01,  3.8723e-01,\n",
      "         8.2716e-01,  7.8552e-01,  5.7224e-01,  1.0268e+00,  6.1568e-01,\n",
      "         4.8431e-01,  2.2825e-01,  4.0007e-01,  1.3040e+00,  8.3167e-01,\n",
      "         6.4438e-01,  7.1465e-01,  9.0879e-01,  1.0906e+00,  3.6176e-01,\n",
      "        -3.9198e-01, -1.4273e-01,  4.3961e-02, -7.8521e-02,  2.9934e-01,\n",
      "         2.0442e-01,  1.0375e-01,  1.4845e-01,  1.6621e-01,  1.7105e-01,\n",
      "        -1.7348e-01,  2.8127e-01, -5.7212e-02,  1.2143e-01, -2.1153e-01,\n",
      "         2.2339e-01, -4.0225e-01,  2.1855e-01,  1.0777e-01, -1.3024e-01,\n",
      "        -1.1196e-01,  6.5097e-01, -8.8516e-01, -1.9146e-02,  3.3151e-01,\n",
      "         5.1349e-01, -6.4391e-01, -9.2532e-02,  1.8107e-01, -1.2531e-01,\n",
      "        -2.6851e-01,  1.4269e-01,  2.3732e-02,  5.5371e-01, -1.4209e-01,\n",
      "         3.4180e-01,  1.2901e-01, -4.8856e-02,  8.2853e-01,  1.7755e-01,\n",
      "        -5.8373e-01, -4.8601e-01,  1.0761e-01, -3.5106e-01, -1.1670e-02,\n",
      "         7.5995e-01,  3.4230e-01,  8.1700e-01,  1.1381e+00,  8.5895e-01,\n",
      "         1.1170e+00,  8.3117e-02,  8.3265e-01,  1.5357e+00,  4.8443e-01,\n",
      "         1.7483e-01,  6.8440e-01,  1.1813e+00,  6.7151e-01,  2.2336e-01,\n",
      "         1.0553e+00,  1.3645e+00,  1.2941e-01,  1.4724e-01,  8.9052e-01,\n",
      "        -3.5677e-03,  4.8556e-01,  3.2919e-01,  2.8447e-01,  3.6619e-01,\n",
      "         1.6329e-01,  3.1752e-01,  6.3804e-01, -1.0306e-01,  4.7389e-01,\n",
      "         3.3784e-02,  3.6884e-01, -2.3498e-01,  2.0310e-01,  6.5013e-01,\n",
      "         1.1383e-02, -7.5429e-02, -2.1701e-01, -2.8028e-01, -7.6156e-01,\n",
      "        -1.6223e-01,  7.5227e-01, -3.5064e-02,  2.1778e-01,  6.3740e-01,\n",
      "        -5.5453e-01, -9.1840e-01,  5.1252e-02,  1.7684e-01, -4.4022e-01,\n",
      "         2.1438e-01, -5.4096e-02, -3.4833e-01, -7.5569e-01,  2.4316e-01,\n",
      "        -2.8188e-02,  8.5936e-01,  1.2011e+00,  5.3622e-01,  7.1574e-01,\n",
      "         7.4002e-01,  5.7020e-01,  6.3193e-01,  1.1003e+00,  8.4740e-01,\n",
      "         6.3893e-02,  1.9176e-01,  7.6014e-01,  1.3356e+00,  4.2469e-01,\n",
      "         4.9153e-01,  5.3295e-01,  3.7283e-01,  8.6287e-01,  3.9436e-01,\n",
      "         2.9177e-01, -1.9637e-01, -9.2137e-01, -5.3505e-01, -6.8666e-01,\n",
      "         5.4785e-02,  9.1585e-01,  1.1506e+00,  1.5898e+00,  1.1538e+00,\n",
      "         6.0777e-01,  4.6443e-01,  1.5458e+00,  5.2386e-01,  3.6098e-01,\n",
      "         4.0801e-01,  3.5959e-02,  1.7714e-01,  3.5494e-01,  2.2174e-01,\n",
      "        -7.7987e-01,  5.4808e-01, -2.8439e-01, -8.0528e-02,  6.1262e-01,\n",
      "         7.4060e-01,  5.1222e-01,  1.1710e+00,  8.0627e-01,  2.0345e-01,\n",
      "         6.0043e-01,  3.4061e-01,  3.9832e-01,  7.2203e-01,  3.2651e-01,\n",
      "         4.7778e-01,  1.5494e-01,  3.6629e-01, -3.4854e-01,  6.5838e-01,\n",
      "         8.4559e-01,  1.8223e+00,  1.1942e+00,  6.5213e-01,  5.6932e-01,\n",
      "         5.9718e-01,  2.5421e-01,  9.1446e-01,  7.9845e-01,  1.0743e+00,\n",
      "         3.9508e-01,  3.9901e-01,  2.8832e-01,  2.4869e-01,  9.4737e-01,\n",
      "         1.2474e+00,  5.6181e-01,  8.0726e-01,  1.6961e+00,  1.0851e+00,\n",
      "         6.0114e-01, -6.1205e-01,  6.7238e-01,  5.7801e-01,  6.0750e-01,\n",
      "         2.6209e-01,  6.6374e-01,  7.9048e-01,  3.6934e-01,  6.0716e-01,\n",
      "         4.3899e-01,  6.5419e-01,  1.0841e+00,  6.0539e-01,  3.2821e-01,\n",
      "         5.3773e-02, -1.9237e-01,  8.4789e-01,  8.3681e-01,  5.0629e-01,\n",
      "         1.6332e-01,  8.1859e-01,  3.3259e-01,  8.0505e-01,  1.6843e+00,\n",
      "         1.6718e+00,  1.6158e+00,  1.6482e+00,  1.6760e-01,  5.2792e-01,\n",
      "         3.5341e-01,  3.7063e-01, -2.4031e-01, -9.4682e-03,  1.4467e+00,\n",
      "         1.3741e-01,  5.2951e-01,  5.7434e-01,  1.1761e-01,  4.2821e-01,\n",
      "         3.1434e-01, -1.9568e-01,  2.0734e-01,  7.7077e-01,  6.3095e-01,\n",
      "         3.7294e-01,  2.3123e-01,  1.0155e+00,  2.3116e-01,  4.2058e-01,\n",
      "        -2.0840e-01,  1.0195e+00,  9.9841e-01,  1.6336e+00,  1.7505e+00,\n",
      "         8.4547e-01,  1.0863e+00,  2.9859e-01,  5.2751e-01,  3.3644e-01,\n",
      "         9.8476e-01,  1.3194e+00,  2.8249e-01, -5.8167e-01,  1.0411e+00,\n",
      "         1.7837e+00,  6.6673e-01,  1.2207e+00,  1.0315e+00,  6.6320e-01,\n",
      "         7.7430e-01,  1.3586e+00,  1.1991e+00,  1.1972e+00,  9.6399e-01,\n",
      "         3.0861e-01,  2.8410e-02,  5.1652e-01,  1.4597e+00,  2.4521e-01,\n",
      "         6.2090e-01, -1.1781e-01,  8.5097e-01,  1.4591e-02, -4.9179e-02,\n",
      "        -1.0557e-01,  1.1022e+00, -1.0884e-01,  6.6707e-01,  3.7233e-01,\n",
      "         8.5437e-01,  8.4622e-01,  6.5260e-01,  4.7584e-01,  9.1893e-01,\n",
      "         7.9329e-02,  7.4462e-01,  4.6193e-01,  5.4621e-01,  3.6482e-01,\n",
      "         4.5389e-01,  3.0237e-02,  6.0682e-01,  8.1709e-01,  5.1024e-01,\n",
      "         9.3379e-01,  6.1490e-01,  7.0052e-01,  6.7925e-01,  6.1526e-01,\n",
      "         6.6204e-01,  6.1858e-01,  9.5628e-01,  1.1231e+00,  1.5776e-01,\n",
      "         3.6077e-01, -4.1305e-02,  2.4690e-02,  4.0818e-02,  5.4845e-01,\n",
      "         5.3130e-01, -3.6217e-02,  1.1358e-02, -2.9506e-01, -5.7830e-01,\n",
      "         9.0780e-01,  1.4393e+00,  2.2788e+00,  9.4800e-01,  5.1326e-01,\n",
      "         6.3984e-01,  6.7285e-01,  1.4621e-01,  7.6066e-01, -8.7487e-02,\n",
      "         1.6650e-01,  3.3909e-01,  2.5055e-01,  3.2815e-01,  2.3300e-01,\n",
      "        -3.5192e-01,  1.6995e-01,  1.9426e-01,  4.5183e-01,  1.9209e-01,\n",
      "        -6.2682e-02,  6.5008e-01,  7.2274e-01,  6.7480e-01, -1.3132e-01,\n",
      "         8.2949e-01,  6.4894e-01,  1.3809e-01,  9.5083e-01,  1.2191e+00,\n",
      "         4.0136e-02,  1.5738e+00,  9.0835e-01,  5.2332e-01,  6.0279e-01,\n",
      "         8.0272e-01,  4.8728e-01,  7.9693e-01,  9.7533e-01,  7.6916e-01,\n",
      "         6.3233e-01,  7.2081e-01,  1.1352e+00,  1.1337e+00,  1.6830e+00,\n",
      "         1.1656e+00,  7.4219e-02,  1.0296e+00,  6.3655e-01,  2.7537e-01,\n",
      "         1.0796e+00,  9.6971e-01,  6.5696e-01,  7.4652e-01,  2.8316e-01,\n",
      "        -2.7056e-01, -1.3779e-01,  3.7862e-01,  2.0967e-01, -5.2069e-01,\n",
      "        -4.8703e-01,  2.1641e-01, -3.6683e-01, -3.2425e-01,  1.0337e-01,\n",
      "         9.6604e-02, -8.7401e-01,  5.4817e-02, -7.9899e-01, -4.0996e-02,\n",
      "        -1.2919e+00, -6.8995e-01, -1.2683e-01, -5.5059e-01, -4.4004e-01,\n",
      "        -1.7582e-02, -1.4016e+00, -1.3562e+00, -8.6164e-01, -5.1480e-01,\n",
      "        -3.0651e-01,  1.0330e-01, -5.2021e-01, -1.9143e-01, -4.8346e-01,\n",
      "        -9.1657e-01, -6.1658e-01,  1.5995e-01, -4.6718e-02,  2.2886e-01,\n",
      "        -2.8926e-01, -9.1231e-01, -8.1769e-01, -5.8180e-01, -9.5734e-01,\n",
      "        -1.3873e+00, -4.7151e-01, -4.5448e-01, -6.8395e-01,  8.9454e-01,\n",
      "        -2.7673e-01, -2.7687e-01, -4.3008e-01,  2.5351e-01, -4.0900e-01,\n",
      "         7.1660e-01, -1.0262e+00, -1.0391e+00, -7.5816e-01, -2.9674e-01,\n",
      "        -7.3143e-01, -7.7301e-01, -8.1382e-01,  5.5328e-02, -7.1311e-01,\n",
      "        -2.6409e-01, -6.0646e-01, -2.5406e-01, -1.6491e-01, -1.2145e+00,\n",
      "        -6.1295e-02, -2.1238e-01, -9.1714e-02, -1.2211e+00, -1.4066e+00,\n",
      "        -5.5483e-02, -8.0090e-02, -5.4647e-01, -5.0229e-01,  9.2323e-02,\n",
      "        -8.5893e-01, -2.3984e-01,  1.7521e-01, -1.2209e-02, -4.2914e-01,\n",
      "        -5.9055e-01, -3.7834e-01, -8.4255e-02, -1.0596e+00, -4.0394e-02,\n",
      "        -5.4995e-01, -5.3562e-01, -5.0273e-01, -3.1134e-01, -4.2471e-01,\n",
      "         2.1885e-01, -1.0542e+00, -8.6803e-01, -1.9398e-01,  1.2248e-01,\n",
      "        -6.7994e-01, -8.1530e-01, -9.5930e-01, -1.2223e+00, -4.3921e-01,\n",
      "        -4.5945e-01, -6.3121e-01, -2.9004e-02,  8.2240e-02, -6.2327e-02,\n",
      "         2.9372e-01,  2.4153e-01,  1.3184e-01, -2.4891e-01,  9.3405e-02,\n",
      "        -9.8786e-01, -2.5732e-02, -1.6797e+00, -1.2633e+00, -6.3298e-01,\n",
      "        -7.8657e-01, -6.1080e-01, -4.6813e-02, -4.2470e-01,  3.3747e-01,\n",
      "        -4.0111e-02, -6.5025e-01, -1.3784e-01, -3.3969e-01, -9.8933e-01,\n",
      "        -1.0518e+00, -4.9009e-01, -6.4429e-02,  1.5114e-01,  3.0710e-03,\n",
      "         2.1196e-01, -3.3026e-01, -5.2352e-01, -4.1971e-01, -2.5855e-01,\n",
      "        -2.5689e-01,  9.4498e-02,  2.8135e-01, -4.0000e-01, -2.8852e-01,\n",
      "        -9.5770e-01, -1.2551e+00, -1.4069e+00, -1.5505e-01, -4.2053e-01,\n",
      "        -4.1017e-01, -6.4609e-01, -9.8320e-01,  1.8839e-01, -3.5524e-01,\n",
      "         3.0044e-01, -1.1267e+00, -3.6808e-01, -9.3001e-01, -6.3356e-01,\n",
      "        -9.9857e-01, -1.6321e-01, -2.7956e-02, -5.6830e-01, -7.5132e-01,\n",
      "         6.1091e-02, -2.0793e-01, -1.4602e+00, -1.3020e+00,  1.3600e-01,\n",
      "        -1.0346e+00, -4.2208e-01,  3.2871e-01, -9.9437e-01, -4.3377e-02,\n",
      "        -1.1055e+00, -6.9673e-01, -2.7729e-01,  4.4368e-01, -3.3750e-01,\n",
      "        -3.6538e-01, -1.0442e+00, -1.1455e+00, -1.9356e-01, -5.1896e-01,\n",
      "        -1.0147e+00, -8.5601e-02,  2.0350e-01,  5.0608e-02, -1.1761e+00,\n",
      "         9.1726e-02, -9.5287e-01,  1.7073e-01,  1.3851e-02,  6.6793e-01,\n",
      "        -2.6408e-01, -5.8954e-01, -1.7446e-01, -1.1297e-01, -6.3732e-01,\n",
      "        -9.7218e-01, -8.4695e-01, -7.7216e-01, -6.9098e-01,  3.2869e-01,\n",
      "        -8.9371e-01, -3.1594e-01,  2.7733e-01, -2.7538e-01, -4.4441e-02,\n",
      "        -8.1991e-01,  3.5372e-02, -6.4096e-01,  9.5985e-02, -7.9643e-01,\n",
      "        -4.1210e-01,  1.1397e-01, -1.1783e-01, -6.4936e-01, -1.5073e-01,\n",
      "         9.5088e-02,  6.2665e-01, -6.5079e-01, -5.0677e-01, -3.1918e-01,\n",
      "         1.2063e-01, -3.8351e-02, -6.7914e-01, -1.1176e+00, -8.1880e-01,\n",
      "        -2.3308e-01, -5.0082e-01, -9.3038e-01, -7.1794e-01, -8.2247e-01,\n",
      "        -3.2161e-01, -6.6778e-02, -3.2049e-01,  1.0598e-01, -1.3655e-01,\n",
      "         1.8580e-02, -1.1709e-03,  1.2999e-01,  2.0290e-01, -1.5893e+00,\n",
      "        -4.0563e-01, -2.4034e-01, -9.3356e-01, -4.7579e-01,  2.6401e-04,\n",
      "        -3.0611e-01,  4.7784e-02, -1.0358e+00, -3.1544e-01, -1.3079e+00,\n",
      "        -1.0431e+00, -3.2369e-01, -9.6081e-01, -4.1613e-01, -3.4431e-01,\n",
      "        -7.5075e-01,  1.0135e-01, -1.1845e+00, -3.0498e-01, -1.2103e-01,\n",
      "        -6.1888e-01, -9.3757e-01,  1.4859e-01, -5.5612e-01, -9.8052e-01,\n",
      "         7.4356e-03, -3.5607e-01, -3.5785e-01,  8.8467e-02, -6.9449e-01,\n",
      "        -1.8635e-01, -1.0942e+00, -2.7692e-01, -6.4240e-01,  5.8877e-01,\n",
      "        -1.1827e+00, -1.2373e+00, -2.6291e-01, -1.4633e+00, -9.7783e-01,\n",
      "        -4.3850e-01,  1.2414e-01, -1.1285e+00, -9.1479e-01,  9.7167e-01,\n",
      "        -5.1837e-01,  3.6663e-02, -2.6726e-01, -1.9162e-01,  5.2116e-02,\n",
      "        -1.4078e+00,  6.1301e-01,  2.2927e-01, -5.6288e-01,  4.1142e-01,\n",
      "         4.9507e-02, -9.7608e-02, -5.0046e-01,  1.5869e-01, -2.9955e-01,\n",
      "        -4.5012e-01, -4.8757e-01, -1.5857e+00, -8.5392e-01, -8.9065e-02,\n",
      "        -6.1725e-01, -3.3263e-01, -5.5962e-01, -1.8857e-01, -6.2420e-01,\n",
      "        -2.3647e-01,  5.2663e-01, -9.1858e-01, -1.5036e+00, -4.4380e-01,\n",
      "         4.5845e-01, -3.4792e-01, -5.9627e-01, -9.3988e-01, -3.7030e-02,\n",
      "        -1.4257e+00, -1.1075e+00, -6.0056e-01, -3.3973e-01, -5.9817e-01,\n",
      "         1.8785e-01, -3.6970e-01, -2.2042e-02, -1.0221e+00,  6.7641e-01,\n",
      "        -2.7858e-01, -8.8828e-01, -1.0114e+00, -1.0825e+00, -1.0627e-01,\n",
      "        -3.1940e-01, -4.9602e-01,  5.9386e-01,  3.1136e-01, -6.9423e-01,\n",
      "        -4.0827e-01, -4.1850e-01, -6.9669e-01,  4.0322e-01, -4.3211e-01,\n",
      "        -8.7669e-01,  1.6986e-01, -7.5904e-01, -3.9488e-01, -8.6402e-01,\n",
      "         2.0076e-01, -1.1723e+00, -1.2631e-01, -2.0628e-01, -1.7594e-01,\n",
      "        -3.0617e-01, -3.7583e-01, -5.8338e-01, -1.2347e+00, -6.8431e-02,\n",
      "        -3.0486e-01,  6.4671e-01, -8.1347e-01,  4.3291e-01,  4.9943e-01,\n",
      "         6.8358e-02, -4.4451e-01,  6.0920e-01, -7.0861e-02, -6.9064e-01,\n",
      "        -4.5747e-01, -2.2672e-02, -1.0197e+00,  3.7683e-01, -4.5141e-01,\n",
      "        -5.6787e-01, -1.3887e-01, -1.3059e+00, -2.0974e-02, -3.2498e-01,\n",
      "        -3.0026e-01, -5.3580e-01, -2.6075e-02,  2.7250e-01, -7.2648e-02,\n",
      "        -3.0851e-01, -1.1177e+00,  5.1531e-01,  8.1573e-02, -9.3743e-02,\n",
      "        -4.7570e-01, -6.0073e-01, -3.2876e-01, -3.0657e-01, -1.1994e+00,\n",
      "        -6.0075e-01, -9.4514e-01, -6.6375e-01,  4.3833e-01, -1.4996e-02,\n",
      "        -1.7089e-01, -9.3356e-01, -2.2507e-01, -3.4420e-01, -6.5745e-01,\n",
      "        -3.8427e-01, -3.9071e-01, -5.9566e-02,  3.1310e-01,  1.3172e+00,\n",
      "        -1.3275e-01,  8.5731e-02, -3.9147e-01,  7.6517e-02, -1.4041e+00,\n",
      "        -1.8383e+00, -1.4492e-02, -9.4674e-01, -7.4023e-01,  1.5612e-01,\n",
      "         5.8274e-01, -3.7862e-01, -9.0949e-01, -6.8352e-02,  7.2452e-01,\n",
      "        -6.2840e-01, -3.1052e-01,  4.4719e-02,  7.1997e-01, -6.0924e-01,\n",
      "         2.7572e-01,  5.5670e-01, -1.0571e+00, -4.3044e-01, -7.9845e-01,\n",
      "        -9.6843e-01, -1.1783e+00, -3.6676e-01, -7.9823e-02, -3.6191e-02,\n",
      "        -9.9007e-01, -4.5266e-02, -1.2018e+00,  7.4781e-01, -1.3573e+00,\n",
      "        -4.8667e-01, -7.0183e-01, -6.4358e-01, -3.7503e-01, -1.0475e+00,\n",
      "        -6.1887e-01,  1.2236e-01, -7.4501e-02, -8.7221e-03, -7.3600e-01,\n",
      "         2.0562e-01, -1.0085e+00,  3.1066e-01, -5.3788e-01, -1.8775e-01,\n",
      "         5.5966e-01, -4.5707e-01, -8.2495e-01, -5.1149e-01, -4.2854e-02,\n",
      "         2.9177e-02, -8.8311e-01,  1.5271e+00, -5.2381e-01, -1.0211e+00,\n",
      "         3.3973e-01, -1.2350e+00, -6.5773e-01, -6.4981e-01,  4.0825e-02,\n",
      "        -1.3684e+00,  6.3485e-01, -6.1120e-01, -5.4173e-01, -1.1265e+00,\n",
      "        -9.8720e-01, -6.5340e-01, -7.4499e-01, -1.6806e-01, -4.4585e-01,\n",
      "        -5.7791e-01, -8.6483e-01,  6.4476e-02, -8.8124e-01, -1.0925e+00,\n",
      "        -1.6443e-01,  8.4594e-01, -1.0183e+00, -8.0594e-01,  2.1472e-01,\n",
      "        -3.9660e-02, -6.4491e-01, -4.0514e-01, -1.0134e-01, -8.9290e-01,\n",
      "         9.9071e-02, -7.8783e-01, -5.7181e-01, -7.3940e-01, -2.4101e-01,\n",
      "        -1.9417e-01, -4.8131e-01,  6.3569e-01, -5.8050e-01, -6.7533e-01,\n",
      "        -4.4474e-01,  3.9117e-02, -3.0822e-01,  3.7911e-01,  5.9043e-01,\n",
      "        -1.4212e-01,  1.4981e-02,  2.3154e-01,  3.2587e-01, -6.3534e-01,\n",
      "        -7.9447e-01, -9.5868e-01, -5.3879e-01, -1.9995e-01, -1.0630e-01,\n",
      "         9.4156e-01,  3.4256e-01, -6.5122e-01, -6.8099e-01, -9.6156e-01,\n",
      "        -4.8357e-01, -1.3544e+00, -8.0456e-01, -4.8471e-01, -7.0853e-01,\n",
      "        -5.6790e-01, -1.3909e-01,  6.9376e-02, -1.0233e-01,  1.1028e-01,\n",
      "         8.2612e-01, -3.9463e-01, -1.1985e-01,  5.3294e-01, -4.5107e-02,\n",
      "         1.1114e-01, -7.3524e-02, -4.9331e-01, -1.2850e-01, -2.4678e-01,\n",
      "         5.7266e-01,  6.3206e-02, -1.6490e-01,  2.1750e-01, -3.4366e-01,\n",
      "         6.1997e-01, -3.6632e-01,  1.5679e-01,  2.5482e-01, -4.8476e-01,\n",
      "        -3.0974e-01, -3.9486e-02, -2.2075e-01,  6.2638e-01,  7.4554e-01,\n",
      "         2.4177e-01,  2.1969e-01, -2.2846e-01, -7.2646e-02, -9.5012e-02,\n",
      "         1.0259e-01,  1.0194e-01,  7.3811e-02,  1.7276e-01,  9.2992e-02,\n",
      "         1.2552e-01,  9.1324e-01, -3.8912e-01, -2.6547e-01, -1.4945e-01,\n",
      "        -4.9102e-02,  1.5249e-01,  1.3158e-01,  5.9056e-01,  4.0211e-01,\n",
      "        -7.9462e-01,  2.9036e-01, -1.0623e+00, -9.5251e-01, -5.4271e-01,\n",
      "        -1.0066e+00, -6.6727e-01, -2.3731e-01, -1.1880e+00, -1.1959e+00,\n",
      "        -6.7282e-01, -2.0076e-02, -1.6345e-02, -9.1971e-01, -2.7724e-01,\n",
      "         3.7718e-01, -4.3750e-01,  4.5889e-01, -6.0626e-01, -5.6620e-01,\n",
      "        -3.2277e-01,  2.0957e-01, -9.5756e-02, -8.6497e-01, -2.8106e-01,\n",
      "        -5.4052e-01, -4.7593e-01, -1.7527e-01,  3.3785e-01,  8.2286e-01])\n"
     ]
    }
   ],
   "source": [
    "input_batch = input_tensor.unsqueeze(0)\n",
    "\n",
    "with torch.no_grad():\n",
    "    output = model(input_batch)\n",
    "print(output[0])"
   ]
  },
  {
   "cell_type": "code",
   "execution_count": 5,
   "id": "33cc6836-2872-45ec-821d-2262745170bf",
   "metadata": {
    "scrolled": true
   },
   "outputs": [
    {
     "data": {
      "text/plain": [
       "ConvNeXt(\n",
       "  (features): Sequential(\n",
       "    (0): Conv2dNormActivation(\n",
       "      (0): Conv2d(32, 96, kernel_size=(4, 4), stride=(4, 4))\n",
       "      (1): LayerNorm2d((96,), eps=1e-06, elementwise_affine=True)\n",
       "    )\n",
       "    (1): Sequential(\n",
       "      (0): CNBlock(\n",
       "        (block): Sequential(\n",
       "          (0): Conv2d(96, 96, kernel_size=(7, 7), stride=(1, 1), padding=(3, 3), groups=96)\n",
       "          (1): Permute()\n",
       "          (2): LayerNorm((96,), eps=1e-06, elementwise_affine=True)\n",
       "          (3): Linear(in_features=96, out_features=384, bias=True)\n",
       "          (4): GELU(approximate='none')\n",
       "          (5): Linear(in_features=384, out_features=96, bias=True)\n",
       "          (6): Permute()\n",
       "        )\n",
       "        (stochastic_depth): StochasticDepth(p=0.0, mode=row)\n",
       "      )\n",
       "      (1): CNBlock(\n",
       "        (block): Sequential(\n",
       "          (0): Conv2d(96, 96, kernel_size=(7, 7), stride=(1, 1), padding=(3, 3), groups=96)\n",
       "          (1): Permute()\n",
       "          (2): LayerNorm((96,), eps=1e-06, elementwise_affine=True)\n",
       "          (3): Linear(in_features=96, out_features=384, bias=True)\n",
       "          (4): GELU(approximate='none')\n",
       "          (5): Linear(in_features=384, out_features=96, bias=True)\n",
       "          (6): Permute()\n",
       "        )\n",
       "        (stochastic_depth): StochasticDepth(p=0.0058823529411764705, mode=row)\n",
       "      )\n",
       "      (2): CNBlock(\n",
       "        (block): Sequential(\n",
       "          (0): Conv2d(96, 96, kernel_size=(7, 7), stride=(1, 1), padding=(3, 3), groups=96)\n",
       "          (1): Permute()\n",
       "          (2): LayerNorm((96,), eps=1e-06, elementwise_affine=True)\n",
       "          (3): Linear(in_features=96, out_features=384, bias=True)\n",
       "          (4): GELU(approximate='none')\n",
       "          (5): Linear(in_features=384, out_features=96, bias=True)\n",
       "          (6): Permute()\n",
       "        )\n",
       "        (stochastic_depth): StochasticDepth(p=0.011764705882352941, mode=row)\n",
       "      )\n",
       "    )\n",
       "    (2): Sequential(\n",
       "      (0): LayerNorm2d((96,), eps=1e-06, elementwise_affine=True)\n",
       "      (1): Conv2d(96, 192, kernel_size=(2, 2), stride=(2, 2))\n",
       "    )\n",
       "    (3): Sequential(\n",
       "      (0): CNBlock(\n",
       "        (block): Sequential(\n",
       "          (0): Conv2d(192, 192, kernel_size=(7, 7), stride=(1, 1), padding=(3, 3), groups=192)\n",
       "          (1): Permute()\n",
       "          (2): LayerNorm((192,), eps=1e-06, elementwise_affine=True)\n",
       "          (3): Linear(in_features=192, out_features=768, bias=True)\n",
       "          (4): GELU(approximate='none')\n",
       "          (5): Linear(in_features=768, out_features=192, bias=True)\n",
       "          (6): Permute()\n",
       "        )\n",
       "        (stochastic_depth): StochasticDepth(p=0.017647058823529415, mode=row)\n",
       "      )\n",
       "      (1): CNBlock(\n",
       "        (block): Sequential(\n",
       "          (0): Conv2d(192, 192, kernel_size=(7, 7), stride=(1, 1), padding=(3, 3), groups=192)\n",
       "          (1): Permute()\n",
       "          (2): LayerNorm((192,), eps=1e-06, elementwise_affine=True)\n",
       "          (3): Linear(in_features=192, out_features=768, bias=True)\n",
       "          (4): GELU(approximate='none')\n",
       "          (5): Linear(in_features=768, out_features=192, bias=True)\n",
       "          (6): Permute()\n",
       "        )\n",
       "        (stochastic_depth): StochasticDepth(p=0.023529411764705882, mode=row)\n",
       "      )\n",
       "      (2): CNBlock(\n",
       "        (block): Sequential(\n",
       "          (0): Conv2d(192, 192, kernel_size=(7, 7), stride=(1, 1), padding=(3, 3), groups=192)\n",
       "          (1): Permute()\n",
       "          (2): LayerNorm((192,), eps=1e-06, elementwise_affine=True)\n",
       "          (3): Linear(in_features=192, out_features=768, bias=True)\n",
       "          (4): GELU(approximate='none')\n",
       "          (5): Linear(in_features=768, out_features=192, bias=True)\n",
       "          (6): Permute()\n",
       "        )\n",
       "        (stochastic_depth): StochasticDepth(p=0.029411764705882353, mode=row)\n",
       "      )\n",
       "    )\n",
       "    (4): Sequential(\n",
       "      (0): LayerNorm2d((192,), eps=1e-06, elementwise_affine=True)\n",
       "      (1): Conv2d(192, 384, kernel_size=(2, 2), stride=(2, 2))\n",
       "    )\n",
       "    (5): Sequential(\n",
       "      (0): CNBlock(\n",
       "        (block): Sequential(\n",
       "          (0): Conv2d(384, 384, kernel_size=(7, 7), stride=(1, 1), padding=(3, 3), groups=384)\n",
       "          (1): Permute()\n",
       "          (2): LayerNorm((384,), eps=1e-06, elementwise_affine=True)\n",
       "          (3): Linear(in_features=384, out_features=1536, bias=True)\n",
       "          (4): GELU(approximate='none')\n",
       "          (5): Linear(in_features=1536, out_features=384, bias=True)\n",
       "          (6): Permute()\n",
       "        )\n",
       "        (stochastic_depth): StochasticDepth(p=0.03529411764705883, mode=row)\n",
       "      )\n",
       "      (1): CNBlock(\n",
       "        (block): Sequential(\n",
       "          (0): Conv2d(384, 384, kernel_size=(7, 7), stride=(1, 1), padding=(3, 3), groups=384)\n",
       "          (1): Permute()\n",
       "          (2): LayerNorm((384,), eps=1e-06, elementwise_affine=True)\n",
       "          (3): Linear(in_features=384, out_features=1536, bias=True)\n",
       "          (4): GELU(approximate='none')\n",
       "          (5): Linear(in_features=1536, out_features=384, bias=True)\n",
       "          (6): Permute()\n",
       "        )\n",
       "        (stochastic_depth): StochasticDepth(p=0.0411764705882353, mode=row)\n",
       "      )\n",
       "      (2): CNBlock(\n",
       "        (block): Sequential(\n",
       "          (0): Conv2d(384, 384, kernel_size=(7, 7), stride=(1, 1), padding=(3, 3), groups=384)\n",
       "          (1): Permute()\n",
       "          (2): LayerNorm((384,), eps=1e-06, elementwise_affine=True)\n",
       "          (3): Linear(in_features=384, out_features=1536, bias=True)\n",
       "          (4): GELU(approximate='none')\n",
       "          (5): Linear(in_features=1536, out_features=384, bias=True)\n",
       "          (6): Permute()\n",
       "        )\n",
       "        (stochastic_depth): StochasticDepth(p=0.047058823529411764, mode=row)\n",
       "      )\n",
       "      (3): CNBlock(\n",
       "        (block): Sequential(\n",
       "          (0): Conv2d(384, 384, kernel_size=(7, 7), stride=(1, 1), padding=(3, 3), groups=384)\n",
       "          (1): Permute()\n",
       "          (2): LayerNorm((384,), eps=1e-06, elementwise_affine=True)\n",
       "          (3): Linear(in_features=384, out_features=1536, bias=True)\n",
       "          (4): GELU(approximate='none')\n",
       "          (5): Linear(in_features=1536, out_features=384, bias=True)\n",
       "          (6): Permute()\n",
       "        )\n",
       "        (stochastic_depth): StochasticDepth(p=0.052941176470588235, mode=row)\n",
       "      )\n",
       "      (4): CNBlock(\n",
       "        (block): Sequential(\n",
       "          (0): Conv2d(384, 384, kernel_size=(7, 7), stride=(1, 1), padding=(3, 3), groups=384)\n",
       "          (1): Permute()\n",
       "          (2): LayerNorm((384,), eps=1e-06, elementwise_affine=True)\n",
       "          (3): Linear(in_features=384, out_features=1536, bias=True)\n",
       "          (4): GELU(approximate='none')\n",
       "          (5): Linear(in_features=1536, out_features=384, bias=True)\n",
       "          (6): Permute()\n",
       "        )\n",
       "        (stochastic_depth): StochasticDepth(p=0.058823529411764705, mode=row)\n",
       "      )\n",
       "      (5): CNBlock(\n",
       "        (block): Sequential(\n",
       "          (0): Conv2d(384, 384, kernel_size=(7, 7), stride=(1, 1), padding=(3, 3), groups=384)\n",
       "          (1): Permute()\n",
       "          (2): LayerNorm((384,), eps=1e-06, elementwise_affine=True)\n",
       "          (3): Linear(in_features=384, out_features=1536, bias=True)\n",
       "          (4): GELU(approximate='none')\n",
       "          (5): Linear(in_features=1536, out_features=384, bias=True)\n",
       "          (6): Permute()\n",
       "        )\n",
       "        (stochastic_depth): StochasticDepth(p=0.06470588235294118, mode=row)\n",
       "      )\n",
       "      (6): CNBlock(\n",
       "        (block): Sequential(\n",
       "          (0): Conv2d(384, 384, kernel_size=(7, 7), stride=(1, 1), padding=(3, 3), groups=384)\n",
       "          (1): Permute()\n",
       "          (2): LayerNorm((384,), eps=1e-06, elementwise_affine=True)\n",
       "          (3): Linear(in_features=384, out_features=1536, bias=True)\n",
       "          (4): GELU(approximate='none')\n",
       "          (5): Linear(in_features=1536, out_features=384, bias=True)\n",
       "          (6): Permute()\n",
       "        )\n",
       "        (stochastic_depth): StochasticDepth(p=0.07058823529411766, mode=row)\n",
       "      )\n",
       "      (7): CNBlock(\n",
       "        (block): Sequential(\n",
       "          (0): Conv2d(384, 384, kernel_size=(7, 7), stride=(1, 1), padding=(3, 3), groups=384)\n",
       "          (1): Permute()\n",
       "          (2): LayerNorm((384,), eps=1e-06, elementwise_affine=True)\n",
       "          (3): Linear(in_features=384, out_features=1536, bias=True)\n",
       "          (4): GELU(approximate='none')\n",
       "          (5): Linear(in_features=1536, out_features=384, bias=True)\n",
       "          (6): Permute()\n",
       "        )\n",
       "        (stochastic_depth): StochasticDepth(p=0.07647058823529412, mode=row)\n",
       "      )\n",
       "      (8): CNBlock(\n",
       "        (block): Sequential(\n",
       "          (0): Conv2d(384, 384, kernel_size=(7, 7), stride=(1, 1), padding=(3, 3), groups=384)\n",
       "          (1): Permute()\n",
       "          (2): LayerNorm((384,), eps=1e-06, elementwise_affine=True)\n",
       "          (3): Linear(in_features=384, out_features=1536, bias=True)\n",
       "          (4): GELU(approximate='none')\n",
       "          (5): Linear(in_features=1536, out_features=384, bias=True)\n",
       "          (6): Permute()\n",
       "        )\n",
       "        (stochastic_depth): StochasticDepth(p=0.0823529411764706, mode=row)\n",
       "      )\n",
       "    )\n",
       "    (6): Sequential(\n",
       "      (0): LayerNorm2d((384,), eps=1e-06, elementwise_affine=True)\n",
       "      (1): Conv2d(384, 768, kernel_size=(2, 2), stride=(2, 2))\n",
       "    )\n",
       "    (7): Sequential(\n",
       "      (0): CNBlock(\n",
       "        (block): Sequential(\n",
       "          (0): Conv2d(768, 768, kernel_size=(7, 7), stride=(1, 1), padding=(3, 3), groups=768)\n",
       "          (1): Permute()\n",
       "          (2): LayerNorm((768,), eps=1e-06, elementwise_affine=True)\n",
       "          (3): Linear(in_features=768, out_features=3072, bias=True)\n",
       "          (4): GELU(approximate='none')\n",
       "          (5): Linear(in_features=3072, out_features=768, bias=True)\n",
       "          (6): Permute()\n",
       "        )\n",
       "        (stochastic_depth): StochasticDepth(p=0.08823529411764706, mode=row)\n",
       "      )\n",
       "      (1): CNBlock(\n",
       "        (block): Sequential(\n",
       "          (0): Conv2d(768, 768, kernel_size=(7, 7), stride=(1, 1), padding=(3, 3), groups=768)\n",
       "          (1): Permute()\n",
       "          (2): LayerNorm((768,), eps=1e-06, elementwise_affine=True)\n",
       "          (3): Linear(in_features=768, out_features=3072, bias=True)\n",
       "          (4): GELU(approximate='none')\n",
       "          (5): Linear(in_features=3072, out_features=768, bias=True)\n",
       "          (6): Permute()\n",
       "        )\n",
       "        (stochastic_depth): StochasticDepth(p=0.09411764705882353, mode=row)\n",
       "      )\n",
       "      (2): CNBlock(\n",
       "        (block): Sequential(\n",
       "          (0): Conv2d(768, 768, kernel_size=(7, 7), stride=(1, 1), padding=(3, 3), groups=768)\n",
       "          (1): Permute()\n",
       "          (2): LayerNorm((768,), eps=1e-06, elementwise_affine=True)\n",
       "          (3): Linear(in_features=768, out_features=3072, bias=True)\n",
       "          (4): GELU(approximate='none')\n",
       "          (5): Linear(in_features=3072, out_features=768, bias=True)\n",
       "          (6): Permute()\n",
       "        )\n",
       "        (stochastic_depth): StochasticDepth(p=0.1, mode=row)\n",
       "      )\n",
       "    )\n",
       "  )\n",
       "  (avgpool): AdaptiveAvgPool2d(output_size=1)\n",
       "  (classifier): Sequential(\n",
       "    (0): LayerNorm2d((768,), eps=1e-06, elementwise_affine=True)\n",
       "    (1): Flatten(start_dim=1, end_dim=-1)\n",
       "    (2): Linear(in_features=768, out_features=32, bias=True)\n",
       "  )\n",
       ")"
      ]
     },
     "execution_count": 5,
     "metadata": {},
     "output_type": "execute_result"
    }
   ],
   "source": [
    "# Change features\n",
    "IN_CHANNELS = 32\n",
    "NUM_CLASSES = 32\n",
    "device = 'cuda'\n",
    "model.features[0][0] = nn.Conv2d(IN_CHANNELS, 96, kernel_size=(4,4), stride=(4,4))\n",
    "model.classifier[2] = nn.Linear(768, NUM_CLASSES)\n",
    "model.to(device)\n",
    "model"
   ]
  },
  {
   "cell_type": "code",
   "execution_count": 6,
   "id": "62571827-054e-439c-a3ac-b5afcf741ddb",
   "metadata": {},
   "outputs": [],
   "source": [
    "# Create dataset\n",
    "import pandas as pd\n",
    "from pathlib import Path\n",
    "NUM_LAYER_LLM = 32\n",
    "\n",
    "class AttentionMapDataset(torch.utils.data.Dataset):\n",
    "    def __init__(self, root, annotations_file, transform=None, target_transform=None):\n",
    "        self.root = Path(root)\n",
    "        self.files = pd.read_csv(annotations_file)\n",
    "        self.transform = transform\n",
    "        self.target_transform = target_transform\n",
    "\n",
    "    def __len__(self):\n",
    "        return len(self.files) * NUM_LAYER_LLM\n",
    "\n",
    "    def __getitem__(self, idx):\n",
    "        f_idx = int(idx // NUM_LAYER_LLM)\n",
    "        pt_path = self.root / self.files['filename'][f_idx]\n",
    "        f = torch.load(pt_path)\n",
    "        random_layer = idx % NUM_LAYER_LLM\n",
    "        heads = f[random_layer][0]\n",
    "        if self.transform:\n",
    "            heads = self.transform(heads)\n",
    "        bucket_label = int(random_layer // 4)\n",
    "        return heads.to(torch.float32), bucket_label\n"
   ]
  },
  {
   "cell_type": "code",
   "execution_count": 7,
   "id": "2615e9ab-3129-4306-bab7-3de44088beed",
   "metadata": {},
   "outputs": [],
   "source": [
    "\n",
    "class AttentionMapBatchDataset(torch.utils.data.Dataset):\n",
    "    def __init__(self, root, annotations_file, transform=None, target_transform=None):\n",
    "        self.root = Path(root)\n",
    "        self.files = pd.read_csv(annotations_file)\n",
    "        self.transform = transform\n",
    "        self.target_transform = target_transform\n",
    "\n",
    "    def __len__(self):\n",
    "        return len(self.files)\n",
    "\n",
    "    def __getitem__(self, idx):\n",
    "        pt_path = self.root / self.files['filename'][idx]\n",
    "        f = torch.load(pt_path)\n",
    "        heads = torch.stack(f).squeeze()\n",
    "        if self.transform:\n",
    "            heads = self.transform(heads)\n",
    "        bucket_labels = torch.arange(NUM_LAYER_LLM)\n",
    "        return heads.to(torch.float32), bucket_labels.to(torch.long)\n"
   ]
  },
  {
   "cell_type": "code",
   "execution_count": 8,
   "id": "11276af7-97b2-4508-a4ee-3951d2ffec4d",
   "metadata": {},
   "outputs": [],
   "source": [
    "from torchvision.transforms import v2 as transforms\n",
    "transform = transforms.Compose([\n",
    "    transforms.RandomHorizontalFlip(0.5),\n",
    "    transforms.RandomVerticalFlip(0.5),\n",
    "    transforms.RandomChannelPermutation(),\n",
    "    transforms.Normalize([0.5], [0.25]),\n",
    "])\n",
    "\n",
    "dataset = AttentionMapBatchDataset(Path.home() / \"Downloads/mmlu_output/\", Path.home() / \"Downloads/mmlu_attention_files_list.txt\", transform=transform)\n",
    "\n",
    "# Randomly split into training and test set\n",
    "indices = torch.randperm(len(dataset)).tolist()\n",
    "split_idx = int(len(indices) * 0.8)\n",
    "training_data = torch.utils.data.Subset(dataset, indices[:split_idx])\n",
    "test_data = torch.utils.data.Subset(dataset, indices[split_idx:])"
   ]
  },
  {
   "cell_type": "code",
   "execution_count": 9,
   "id": "b9ea085b-520b-4b9b-afbc-ea5f65eb4461",
   "metadata": {},
   "outputs": [
    {
     "data": {
      "text/plain": [
       "(1068, 267)"
      ]
     },
     "execution_count": 9,
     "metadata": {},
     "output_type": "execute_result"
    }
   ],
   "source": [
    "len(training_data), len(test_data)"
   ]
  },
  {
   "cell_type": "code",
   "execution_count": 10,
   "id": "ba0c41c4-d2ff-4b49-999d-7e32bd40a1dd",
   "metadata": {},
   "outputs": [],
   "source": [
    "train_dataloader = torch.utils.data.DataLoader(training_data, batch_size=1)\n",
    "test_dataloader = torch.utils.data.DataLoader(test_data, batch_size=1)"
   ]
  },
  {
   "cell_type": "code",
   "execution_count": 11,
   "id": "824676ff-57fc-4a0c-bc53-613cff267b08",
   "metadata": {
    "scrolled": true
   },
   "outputs": [
    {
     "name": "stderr",
     "output_type": "stream",
     "text": [
      "C:\\Users\\sk4835\\AppData\\Local\\Temp\\ipykernel_13764\\560115562.py:13: FutureWarning: You are using `torch.load` with `weights_only=False` (the current default value), which uses the default pickle module implicitly. It is possible to construct malicious pickle data which will execute arbitrary code during unpickling (See https://github.com/pytorch/pytorch/blob/main/SECURITY.md#untrusted-models for more details). In a future release, the default value for `weights_only` will be flipped to `True`. This limits the functions that could be executed during unpickling. Arbitrary objects will no longer be allowed to be loaded via this mode unless they are explicitly allowlisted by the user via `torch.serialization.add_safe_globals`. We recommend you start setting `weights_only=True` for any use case where you don't have full control of the loaded file. Please open an issue on GitHub for any issues related to this experimental feature.\n",
      "  f = torch.load(pt_path)\n"
     ]
    },
    {
     "data": {
      "text/plain": [
       "(tensor([[[[ 2.0000, -2.0000, -2.0000,  ..., -2.0000, -2.0000, -2.0000],\n",
       "           [ 1.6250, -1.6250, -2.0000,  ..., -2.0000, -2.0000, -2.0000],\n",
       "           [ 1.8750, -1.9062, -1.9688,  ..., -2.0000, -2.0000, -2.0000],\n",
       "           ...,\n",
       "           [-1.7500, -1.8594, -1.7578,  ..., -1.7266, -2.0000, -2.0000],\n",
       "           [ 0.1562, -1.9766, -1.9922,  ..., -1.8984, -1.9609, -2.0000],\n",
       "           [-1.6250, -1.9297, -1.9375,  ..., -1.1016, -1.8281, -1.8906]],\n",
       " \n",
       "          [[ 2.0000, -2.0000, -2.0000,  ..., -2.0000, -2.0000, -2.0000],\n",
       "           [ 1.5000, -1.5000, -2.0000,  ..., -2.0000, -2.0000, -2.0000],\n",
       "           [ 1.5781, -1.8438, -1.7266,  ..., -2.0000, -2.0000, -2.0000],\n",
       "           ...,\n",
       "           [-1.5703, -2.0000, -1.9688,  ..., -1.8516, -2.0000, -2.0000],\n",
       "           [-1.3438, -2.0000, -1.9219,  ..., -1.9219, -1.3672, -2.0000],\n",
       "           [-1.5312, -2.0000, -1.9609,  ..., -1.7500, -1.6953, -1.8906]],\n",
       " \n",
       "          [[ 2.0000, -2.0000, -2.0000,  ..., -2.0000, -2.0000, -2.0000],\n",
       "           [ 1.8438, -1.8516, -2.0000,  ..., -2.0000, -2.0000, -2.0000],\n",
       "           [-0.6250,  0.0469, -1.4375,  ..., -2.0000, -2.0000, -2.0000],\n",
       "           ...,\n",
       "           [ 1.2188, -1.9922, -2.0000,  ..., -1.8359, -2.0000, -2.0000],\n",
       "           [-1.0703, -1.9922, -2.0000,  ..., -1.5703, -1.8828, -2.0000],\n",
       "           [-0.6875, -1.9922, -2.0000,  ..., -1.7812, -1.9766, -1.7734]],\n",
       " \n",
       "          ...,\n",
       " \n",
       "          [[ 2.0000, -2.0000, -2.0000,  ..., -2.0000, -2.0000, -2.0000],\n",
       "           [-0.5156,  0.5156, -2.0000,  ..., -2.0000, -2.0000, -2.0000],\n",
       "           [-1.7266,  1.5938, -1.8672,  ..., -2.0000, -2.0000, -2.0000],\n",
       "           ...,\n",
       "           [-1.9453, -2.0000, -2.0000,  ...,  0.5625, -2.0000, -2.0000],\n",
       "           [-1.9766, -2.0000, -2.0000,  ...,  1.6875, -1.8906, -2.0000],\n",
       "           [-1.9297, -2.0000, -2.0000,  ..., -1.6250, -0.3594, -0.2891]],\n",
       " \n",
       "          [[ 2.0000, -2.0000, -2.0000,  ..., -2.0000, -2.0000, -2.0000],\n",
       "           [ 1.0938, -1.0859, -2.0000,  ..., -2.0000, -2.0000, -2.0000],\n",
       "           [ 0.8125, -1.0234, -1.7969,  ..., -2.0000, -2.0000, -2.0000],\n",
       "           ...,\n",
       "           [-1.4766, -1.9688, -1.9766,  ..., -1.3672, -2.0000, -2.0000],\n",
       "           [-1.0312, -1.9766, -1.9922,  ..., -1.5625, -1.9531, -2.0000],\n",
       "           [-1.9531, -2.0000, -2.0000,  ..., -1.8906,  0.8906, -1.6094]],\n",
       " \n",
       "          [[ 2.0000, -2.0000, -2.0000,  ..., -2.0000, -2.0000, -2.0000],\n",
       "           [ 0.9219, -0.9219, -2.0000,  ..., -2.0000, -2.0000, -2.0000],\n",
       "           [ 0.6562, -0.8359, -1.8281,  ..., -2.0000, -2.0000, -2.0000],\n",
       "           ...,\n",
       "           [-1.8203, -1.9688, -2.0000,  ..., -1.7734, -2.0000, -2.0000],\n",
       "           [-1.6875, -1.9766, -2.0000,  ..., -1.7969, -1.9453, -2.0000],\n",
       "           [-1.3594, -1.9844, -2.0000,  ..., -1.7109, -1.9375, -1.8359]]],\n",
       " \n",
       " \n",
       "         [[[ 2.0000, -2.0000, -2.0000,  ..., -2.0000, -2.0000, -2.0000],\n",
       "           [ 1.9688, -1.9688, -2.0000,  ..., -2.0000, -2.0000, -2.0000],\n",
       "           [ 1.9688, -1.9766, -1.9844,  ..., -2.0000, -2.0000, -2.0000],\n",
       "           ...,\n",
       "           [ 0.7812, -1.9375, -1.9922,  ..., -1.9609, -2.0000, -2.0000],\n",
       "           [ 1.0938, -1.9844, -2.0000,  ..., -1.9844, -1.8906, -2.0000],\n",
       "           [ 0.3906, -1.9375, -1.9922,  ..., -1.9844, -1.6875, -1.9453]],\n",
       " \n",
       "          [[ 2.0000, -2.0000, -2.0000,  ..., -2.0000, -2.0000, -2.0000],\n",
       "           [ 1.2031, -1.2031, -2.0000,  ..., -2.0000, -2.0000, -2.0000],\n",
       "           [ 1.6719, -1.8516, -1.8203,  ..., -2.0000, -2.0000, -2.0000],\n",
       "           ...,\n",
       "           [ 0.8594, -1.9766, -1.9766,  ..., -1.9453, -2.0000, -2.0000],\n",
       "           [ 1.1406, -1.9844, -1.9844,  ..., -1.9531, -1.9531, -2.0000],\n",
       "           [ 1.0312, -1.9844, -1.9844,  ..., -1.9688, -1.9609, -1.9688]],\n",
       " \n",
       "          [[ 2.0000, -2.0000, -2.0000,  ..., -2.0000, -2.0000, -2.0000],\n",
       "           [ 1.7969, -1.7969, -2.0000,  ..., -2.0000, -2.0000, -2.0000],\n",
       "           [ 1.6250, -1.8125, -1.8125,  ..., -2.0000, -2.0000, -2.0000],\n",
       "           ...,\n",
       "           [-0.0078, -2.0000, -2.0000,  ..., -1.5781, -2.0000, -2.0000],\n",
       "           [ 1.7500, -2.0000, -2.0000,  ..., -1.9531, -1.9297, -2.0000],\n",
       "           [ 0.8125, -2.0000, -2.0000,  ..., -1.9453, -1.1094, -1.8594]],\n",
       " \n",
       "          ...,\n",
       " \n",
       "          [[ 2.0000, -2.0000, -2.0000,  ..., -2.0000, -2.0000, -2.0000],\n",
       "           [ 1.9688, -1.9609, -2.0000,  ..., -2.0000, -2.0000, -2.0000],\n",
       "           [ 0.7031, -0.9609, -1.7500,  ..., -2.0000, -2.0000, -2.0000],\n",
       "           ...,\n",
       "           [-0.7656, -1.2578, -1.9688,  ..., -1.8359, -2.0000, -2.0000],\n",
       "           [-0.3516, -1.4609, -1.9922,  ..., -1.7734, -1.8047, -2.0000],\n",
       "           [-0.6641, -1.4062, -1.9844,  ..., -1.8281, -1.8906, -1.9062]],\n",
       " \n",
       "          [[ 2.0000, -2.0000, -2.0000,  ..., -2.0000, -2.0000, -2.0000],\n",
       "           [ 1.9844, -1.9766, -2.0000,  ..., -2.0000, -2.0000, -2.0000],\n",
       "           [ 1.9219, -1.9531, -1.9688,  ..., -2.0000, -2.0000, -2.0000],\n",
       "           ...,\n",
       "           [ 1.0000, -1.9766, -2.0000,  ..., -1.9141, -2.0000, -2.0000],\n",
       "           [ 1.8125, -2.0000, -2.0000,  ..., -1.9844, -1.9844, -2.0000],\n",
       "           [ 0.7812, -1.9766, -2.0000,  ..., -1.9844, -1.8594, -1.9609]],\n",
       " \n",
       "          [[ 2.0000, -2.0000, -2.0000,  ..., -2.0000, -2.0000, -2.0000],\n",
       "           [ 1.8281, -1.8203, -2.0000,  ..., -2.0000, -2.0000, -2.0000],\n",
       "           [ 1.8438, -1.9375, -1.9062,  ..., -2.0000, -2.0000, -2.0000],\n",
       "           ...,\n",
       "           [ 1.6875, -2.0000, -2.0000,  ..., -1.9219, -2.0000, -2.0000],\n",
       "           [ 1.7500, -2.0000, -2.0000,  ..., -1.9453, -1.9453, -2.0000],\n",
       "           [ 1.6406, -2.0000, -2.0000,  ..., -1.9766, -1.9219, -1.8359]]],\n",
       " \n",
       " \n",
       "         [[[ 2.0000, -2.0000, -2.0000,  ..., -2.0000, -2.0000, -2.0000],\n",
       "           [ 1.8906, -1.8906, -2.0000,  ..., -2.0000, -2.0000, -2.0000],\n",
       "           [ 1.8906, -1.9844, -1.9141,  ..., -2.0000, -2.0000, -2.0000],\n",
       "           ...,\n",
       "           [ 1.2656, -1.9609, -1.9297,  ..., -2.0000, -2.0000, -2.0000],\n",
       "           [ 0.9844, -1.9844, -1.9531,  ..., -2.0000, -1.9141, -2.0000],\n",
       "           [ 1.5781, -1.9922, -1.9844,  ..., -2.0000, -1.9922, -1.9922]],\n",
       " \n",
       "          [[ 2.0000, -2.0000, -2.0000,  ..., -2.0000, -2.0000, -2.0000],\n",
       "           [ 1.8125, -1.8047, -2.0000,  ..., -2.0000, -2.0000, -2.0000],\n",
       "           [ 1.9375, -1.9688, -1.9609,  ..., -2.0000, -2.0000, -2.0000],\n",
       "           ...,\n",
       "           [ 1.9062, -2.0000, -2.0000,  ..., -1.9844, -2.0000, -2.0000],\n",
       "           [ 1.8594, -2.0000, -2.0000,  ..., -1.9844, -1.8984, -2.0000],\n",
       "           [ 1.9219, -2.0000, -2.0000,  ..., -2.0000, -1.9375, -1.9922]],\n",
       " \n",
       "          [[ 2.0000, -2.0000, -2.0000,  ..., -2.0000, -2.0000, -2.0000],\n",
       "           [ 1.8438, -1.8438, -2.0000,  ..., -2.0000, -2.0000, -2.0000],\n",
       "           [ 1.6562, -1.7188, -1.9375,  ..., -2.0000, -2.0000, -2.0000],\n",
       "           ...,\n",
       "           [ 0.2188, -1.6094, -2.0000,  ..., -1.9062, -2.0000, -2.0000],\n",
       "           [ 1.1250, -1.8672, -1.9844,  ..., -1.8906, -1.9375, -2.0000],\n",
       "           [ 1.5625, -1.9766, -2.0000,  ..., -1.9531, -1.9766, -1.9844]],\n",
       " \n",
       "          ...,\n",
       " \n",
       "          [[ 2.0000, -2.0000, -2.0000,  ..., -2.0000, -2.0000, -2.0000],\n",
       "           [ 1.9844, -1.9844, -2.0000,  ..., -2.0000, -2.0000, -2.0000],\n",
       "           [ 1.9688, -2.0000, -1.9766,  ..., -2.0000, -2.0000, -2.0000],\n",
       "           ...,\n",
       "           [ 1.4844, -2.0000, -2.0000,  ..., -1.9922, -2.0000, -2.0000],\n",
       "           [ 1.8594, -2.0000, -2.0000,  ..., -2.0000, -1.9844, -2.0000],\n",
       "           [ 1.9219, -2.0000, -2.0000,  ..., -1.9922, -1.9688, -1.9922]],\n",
       " \n",
       "          [[ 2.0000, -2.0000, -2.0000,  ..., -2.0000, -2.0000, -2.0000],\n",
       "           [ 1.9062, -1.8984, -2.0000,  ..., -2.0000, -2.0000, -2.0000],\n",
       "           [ 1.6406, -1.8359, -1.7969,  ..., -2.0000, -2.0000, -2.0000],\n",
       "           ...,\n",
       "           [ 1.6250, -2.0000, -2.0000,  ..., -1.8906, -2.0000, -2.0000],\n",
       "           [ 1.5625, -2.0000, -2.0000,  ..., -1.8438, -1.8750, -2.0000],\n",
       "           [ 1.6875, -2.0000, -2.0000,  ..., -1.9453, -1.8281, -1.9531]],\n",
       " \n",
       "          [[ 2.0000, -2.0000, -2.0000,  ..., -2.0000, -2.0000, -2.0000],\n",
       "           [ 1.3594, -1.3594, -2.0000,  ..., -2.0000, -2.0000, -2.0000],\n",
       "           [ 1.9375, -1.9453, -1.9922,  ..., -2.0000, -2.0000, -2.0000],\n",
       "           ...,\n",
       "           [ 1.7812, -1.9922, -1.9922,  ..., -1.9922, -2.0000, -2.0000],\n",
       "           [ 1.8281, -2.0000, -2.0000,  ..., -1.9844, -1.9375, -2.0000],\n",
       "           [ 1.8125, -2.0000, -2.0000,  ..., -2.0000, -1.9062, -1.9688]]],\n",
       " \n",
       " \n",
       "         ...,\n",
       " \n",
       " \n",
       "         [[[ 2.0000, -2.0000, -2.0000,  ..., -2.0000, -2.0000, -2.0000],\n",
       "           [ 1.9844, -1.9766, -2.0000,  ..., -2.0000, -2.0000, -2.0000],\n",
       "           [ 1.9375, -1.9922, -1.9453,  ..., -2.0000, -2.0000, -2.0000],\n",
       "           ...,\n",
       "           [ 1.7500, -2.0000, -1.9922,  ..., -1.9844, -2.0000, -2.0000],\n",
       "           [ 1.7500, -2.0000, -1.9766,  ..., -1.9766, -1.9453, -2.0000],\n",
       "           [ 1.6406, -2.0000, -1.9922,  ..., -1.9609, -1.9375, -1.9609]],\n",
       " \n",
       "          [[ 2.0000, -2.0000, -2.0000,  ..., -2.0000, -2.0000, -2.0000],\n",
       "           [ 1.8750, -1.8750, -2.0000,  ..., -2.0000, -2.0000, -2.0000],\n",
       "           [ 1.5469, -1.9766, -1.5703,  ..., -2.0000, -2.0000, -2.0000],\n",
       "           ...,\n",
       "           [ 0.0000, -1.9375, -1.9922,  ..., -1.4141, -2.0000, -2.0000],\n",
       "           [-0.1172, -1.9922, -2.0000,  ..., -1.9062, -1.7812, -2.0000],\n",
       "           [-0.4609, -1.9922, -1.9922,  ..., -1.8594, -1.9219, -1.1562]],\n",
       " \n",
       "          [[ 2.0000, -2.0000, -2.0000,  ..., -2.0000, -2.0000, -2.0000],\n",
       "           [ 1.9844, -1.9922, -2.0000,  ..., -2.0000, -2.0000, -2.0000],\n",
       "           [ 1.8438, -1.9688, -1.8828,  ..., -2.0000, -2.0000, -2.0000],\n",
       "           ...,\n",
       "           [ 1.5625, -2.0000, -1.9844,  ..., -1.9844, -2.0000, -2.0000],\n",
       "           [ 1.7969, -2.0000, -1.9922,  ..., -1.9922, -1.9453, -2.0000],\n",
       "           [ 1.7031, -2.0000, -1.9922,  ..., -1.9844, -1.8828, -1.9766]],\n",
       " \n",
       "          ...,\n",
       " \n",
       "          [[ 2.0000, -2.0000, -2.0000,  ..., -2.0000, -2.0000, -2.0000],\n",
       "           [ 1.9219, -1.9219, -2.0000,  ..., -2.0000, -2.0000, -2.0000],\n",
       "           [ 1.9375, -2.0000, -1.9453,  ..., -2.0000, -2.0000, -2.0000],\n",
       "           ...,\n",
       "           [ 1.3906, -1.9844, -1.9609,  ..., -1.9844, -2.0000, -2.0000],\n",
       "           [ 1.3750, -1.9922, -1.9453,  ..., -1.9844, -1.9688, -2.0000],\n",
       "           [ 1.1562, -1.9922, -1.9688,  ..., -1.9922, -1.9766, -1.9844]],\n",
       " \n",
       "          [[ 2.0000, -2.0000, -2.0000,  ..., -2.0000, -2.0000, -2.0000],\n",
       "           [ 1.8750, -1.8750, -2.0000,  ..., -2.0000, -2.0000, -2.0000],\n",
       "           [ 1.9375, -1.9844, -1.9531,  ..., -2.0000, -2.0000, -2.0000],\n",
       "           ...,\n",
       "           [ 1.9062, -1.9922, -2.0000,  ..., -2.0000, -2.0000, -2.0000],\n",
       "           [ 1.8125, -1.9922, -2.0000,  ..., -1.9922, -1.8906, -2.0000],\n",
       "           [ 1.7500, -2.0000, -2.0000,  ..., -1.9922, -1.8672, -1.9688]],\n",
       " \n",
       "          [[ 2.0000, -2.0000, -2.0000,  ..., -2.0000, -2.0000, -2.0000],\n",
       "           [ 1.9375, -1.9375, -2.0000,  ..., -2.0000, -2.0000, -2.0000],\n",
       "           [ 1.2812, -1.3438, -1.9375,  ..., -2.0000, -2.0000, -2.0000],\n",
       "           ...,\n",
       "           [ 1.8281, -2.0000, -2.0000,  ..., -1.9688, -2.0000, -2.0000],\n",
       "           [ 0.6406, -2.0000, -2.0000,  ..., -0.9297, -1.9531, -2.0000],\n",
       "           [ 1.4062, -2.0000, -2.0000,  ..., -1.9453, -1.5000, -1.9766]]],\n",
       " \n",
       " \n",
       "         [[[ 2.0000, -2.0000, -2.0000,  ..., -2.0000, -2.0000, -2.0000],\n",
       "           [ 1.8438, -1.8438, -2.0000,  ..., -2.0000, -2.0000, -2.0000],\n",
       "           [ 1.9062, -1.9844, -1.9219,  ..., -2.0000, -2.0000, -2.0000],\n",
       "           ...,\n",
       "           [-0.4688, -1.9609, -1.8984,  ..., -1.9609, -2.0000, -2.0000],\n",
       "           [-0.5312, -1.9766, -1.9453,  ..., -1.9688, -1.9375, -2.0000],\n",
       "           [-0.9062, -1.9844, -1.9297,  ..., -1.9688, -1.9453, -1.9375]],\n",
       " \n",
       "          [[ 2.0000, -2.0000, -2.0000,  ..., -2.0000, -2.0000, -2.0000],\n",
       "           [ 1.8750, -1.8828, -2.0000,  ..., -2.0000, -2.0000, -2.0000],\n",
       "           [ 1.4062, -1.9062, -1.5000,  ..., -2.0000, -2.0000, -2.0000],\n",
       "           ...,\n",
       "           [-0.2578, -1.9844, -1.9922,  ..., -1.7031, -2.0000, -2.0000],\n",
       "           [-0.7344, -1.9766, -1.9922,  ..., -1.7891, -1.8906, -2.0000],\n",
       "           [-1.1953, -1.9922, -2.0000,  ..., -1.7656, -1.8750, -1.6641]],\n",
       " \n",
       "          [[ 2.0000, -2.0000, -2.0000,  ..., -2.0000, -2.0000, -2.0000],\n",
       "           [ 1.8906, -1.8828, -2.0000,  ..., -2.0000, -2.0000, -2.0000],\n",
       "           [ 1.8750, -1.9844, -1.8906,  ..., -2.0000, -2.0000, -2.0000],\n",
       "           ...,\n",
       "           [ 0.9219, -1.9922, -1.9766,  ..., -1.9141, -2.0000, -2.0000],\n",
       "           [ 1.0938, -2.0000, -1.9844,  ..., -1.9922, -1.9766, -2.0000],\n",
       "           [ 0.8125, -2.0000, -1.9922,  ..., -1.9922, -1.9844, -1.9609]],\n",
       " \n",
       "          ...,\n",
       " \n",
       "          [[ 2.0000, -2.0000, -2.0000,  ..., -2.0000, -2.0000, -2.0000],\n",
       "           [ 1.7969, -1.8047, -2.0000,  ..., -2.0000, -2.0000, -2.0000],\n",
       "           [ 1.5625, -1.9141, -1.6562,  ..., -2.0000, -2.0000, -2.0000],\n",
       "           ...,\n",
       "           [-0.5703, -1.9922, -1.9922,  ..., -1.7812, -2.0000, -2.0000],\n",
       "           [-1.2031, -1.9922, -1.9922,  ..., -1.7891, -1.8984, -2.0000],\n",
       "           [-0.7734, -2.0000, -1.9922,  ..., -1.9219, -1.9375, -1.6328]],\n",
       " \n",
       "          [[ 2.0000, -2.0000, -2.0000,  ..., -2.0000, -2.0000, -2.0000],\n",
       "           [ 1.8594, -1.8516, -2.0000,  ..., -2.0000, -2.0000, -2.0000],\n",
       "           [ 1.7031, -1.9688, -1.7344,  ..., -2.0000, -2.0000, -2.0000],\n",
       "           ...,\n",
       "           [ 1.2500, -1.9844, -1.9844,  ..., -1.7734, -2.0000, -2.0000],\n",
       "           [ 1.4219, -1.9922, -1.9922,  ..., -1.8984, -1.8516, -2.0000],\n",
       "           [ 1.3125, -1.9922, -1.9922,  ..., -1.9453, -1.8828, -1.9375]],\n",
       " \n",
       "          [[ 2.0000, -2.0000, -2.0000,  ..., -2.0000, -2.0000, -2.0000],\n",
       "           [ 0.8281, -0.8281, -2.0000,  ..., -2.0000, -2.0000, -2.0000],\n",
       "           [ 0.6250, -1.9688, -0.6562,  ..., -2.0000, -2.0000, -2.0000],\n",
       "           ...,\n",
       "           [-0.8203, -1.9766, -1.9844,  ..., -1.7734, -2.0000, -2.0000],\n",
       "           [-0.6953, -1.9844, -1.9844,  ..., -1.9375, -1.1562, -2.0000],\n",
       "           [-0.7109, -1.9922, -1.9922,  ..., -1.9609, -1.2812, -0.9453]]],\n",
       " \n",
       " \n",
       "         [[[ 2.0000, -2.0000, -2.0000,  ..., -2.0000, -2.0000, -2.0000],\n",
       "           [-2.0000,  2.0000, -2.0000,  ..., -2.0000, -2.0000, -2.0000],\n",
       "           [-2.0000, -2.0000,  2.0000,  ..., -2.0000, -2.0000, -2.0000],\n",
       "           ...,\n",
       "           [-2.0000, -2.0000, -2.0000,  ...,  1.8125, -2.0000, -2.0000],\n",
       "           [-2.0000, -2.0000, -2.0000,  ..., -1.9688,  1.8906, -2.0000],\n",
       "           [-2.0000, -2.0000, -2.0000,  ..., -2.0000, -1.9453,  1.9219]],\n",
       " \n",
       "          [[ 2.0000, -2.0000, -2.0000,  ..., -2.0000, -2.0000, -2.0000],\n",
       "           [ 0.1094, -0.1172, -2.0000,  ..., -2.0000, -2.0000, -2.0000],\n",
       "           [ 0.9531, -1.6875, -1.2656,  ..., -2.0000, -2.0000, -2.0000],\n",
       "           ...,\n",
       "           [ 1.4219, -1.9922, -1.9922,  ..., -1.6250, -2.0000, -2.0000],\n",
       "           [ 0.8438, -1.9844, -1.9922,  ..., -1.7891, -1.2656, -2.0000],\n",
       "           [ 0.9219, -1.9922, -2.0000,  ..., -1.9766, -1.8359, -1.2031]],\n",
       " \n",
       "          [[ 2.0000, -2.0000, -2.0000,  ..., -2.0000, -2.0000, -2.0000],\n",
       "           [ 0.2656, -0.2656, -2.0000,  ..., -2.0000, -2.0000, -2.0000],\n",
       "           [-0.0625, -1.8984, -0.0312,  ..., -2.0000, -2.0000, -2.0000],\n",
       "           ...,\n",
       "           [-1.0469, -2.0000, -2.0000,  ...,  0.2812, -2.0000, -2.0000],\n",
       "           [-1.1875, -2.0000, -1.9922,  ..., -1.5781,  0.4062, -2.0000],\n",
       "           [-0.8359, -2.0000, -2.0000,  ..., -1.7578, -1.7109, -0.0703]],\n",
       " \n",
       "          ...,\n",
       " \n",
       "          [[ 2.0000, -2.0000, -2.0000,  ..., -2.0000, -2.0000, -2.0000],\n",
       "           [-0.9531,  0.9531, -2.0000,  ..., -2.0000, -2.0000, -2.0000],\n",
       "           [ 0.6406, -1.8828, -0.7578,  ..., -2.0000, -2.0000, -2.0000],\n",
       "           ...,\n",
       "           [-1.0078, -1.9688, -1.9922,  ...,  0.3125, -2.0000, -2.0000],\n",
       "           [-0.4297, -1.9922, -1.9922,  ..., -1.8125, -0.5078, -2.0000],\n",
       "           [ 0.1250, -2.0000, -2.0000,  ..., -1.9219, -1.6719, -0.9844]],\n",
       " \n",
       "          [[ 2.0000, -2.0000, -2.0000,  ..., -2.0000, -2.0000, -2.0000],\n",
       "           [ 1.3125, -1.3125, -2.0000,  ..., -2.0000, -2.0000, -2.0000],\n",
       "           [ 0.4219, -1.8438, -0.5859,  ..., -2.0000, -2.0000, -2.0000],\n",
       "           ...,\n",
       "           [-1.2656, -2.0000, -1.9922,  ..., -1.8594, -2.0000, -2.0000],\n",
       "           [-1.4844, -2.0000, -1.9844,  ..., -1.8828, -1.9219, -2.0000],\n",
       "           [-1.1328, -2.0000, -2.0000,  ..., -1.9219, -1.9062, -1.0781]],\n",
       " \n",
       "          [[ 2.0000, -2.0000, -2.0000,  ..., -2.0000, -2.0000, -2.0000],\n",
       "           [-1.7969,  1.7969, -2.0000,  ..., -2.0000, -2.0000, -2.0000],\n",
       "           [ 1.6719, -1.9141, -1.7500,  ..., -2.0000, -2.0000, -2.0000],\n",
       "           ...,\n",
       "           [ 0.0781, -1.9141, -1.9766,  ..., -0.6562, -2.0000, -2.0000],\n",
       "           [ 0.8281, -1.9922, -1.9844,  ..., -1.8594, -1.4844, -2.0000],\n",
       "           [ 0.4531, -1.9922, -1.9844,  ..., -1.8047, -1.7969, -1.4766]]]],\n",
       "        device='cuda:0', grad_fn=<ToCopyBackward0>),\n",
       " tensor([ 0,  1,  2,  3,  4,  5,  6,  7,  8,  9, 10, 11, 12, 13, 14, 15, 16, 17,\n",
       "         18, 19, 20, 21, 22, 23, 24, 25, 26, 27, 28, 29, 30, 31]))"
      ]
     },
     "execution_count": 11,
     "metadata": {},
     "output_type": "execute_result"
    }
   ],
   "source": [
    "training_data.__getitem__(0)"
   ]
  },
  {
   "cell_type": "code",
   "execution_count": 12,
   "id": "c71d779e-7b9d-44f0-aa00-ced9abeaae2e",
   "metadata": {},
   "outputs": [
    {
     "name": "stderr",
     "output_type": "stream",
     "text": [
      "C:\\Users\\sk4835\\AppData\\Local\\Temp\\ipykernel_13764\\560115562.py:13: FutureWarning: You are using `torch.load` with `weights_only=False` (the current default value), which uses the default pickle module implicitly. It is possible to construct malicious pickle data which will execute arbitrary code during unpickling (See https://github.com/pytorch/pytorch/blob/main/SECURITY.md#untrusted-models for more details). In a future release, the default value for `weights_only` will be flipped to `True`. This limits the functions that could be executed during unpickling. Arbitrary objects will no longer be allowed to be loaded via this mode unless they are explicitly allowlisted by the user via `torch.serialization.add_safe_globals`. We recommend you start setting `weights_only=True` for any use case where you don't have full control of the loaded file. Please open an issue on GitHub for any issues related to this experimental feature.\n",
      "  f = torch.load(pt_path)\n"
     ]
    },
    {
     "data": {
      "text/plain": [
       "tensor([[-0.0271, -0.0674, -0.1068,  ..., -0.0028, -0.1077, -0.1471],\n",
       "        [-0.0835, -0.0467, -0.1045,  ...,  0.0459, -0.1579, -0.1153],\n",
       "        [-0.0839, -0.0469, -0.1067,  ...,  0.0483, -0.1555, -0.1108],\n",
       "        ...,\n",
       "        [-0.0828, -0.0502, -0.1122,  ...,  0.0479, -0.1581, -0.1150],\n",
       "        [-0.0315, -0.0713, -0.1114,  ..., -0.0012, -0.1055, -0.1488],\n",
       "        [-0.0809, -0.0500, -0.0982,  ...,  0.0465, -0.1564, -0.1143]],\n",
       "       device='cuda:0', grad_fn=<AddmmBackward0>)"
      ]
     },
     "execution_count": 12,
     "metadata": {},
     "output_type": "execute_result"
    }
   ],
   "source": [
    "model(training_data.__getitem__(0)[0])"
   ]
  },
  {
   "cell_type": "code",
   "execution_count": 13,
   "id": "6b5b3e2d-2168-4412-8a8f-acb05d85720b",
   "metadata": {},
   "outputs": [],
   "source": [
    "import torch.nn.functional as F\n",
    "import torchmetrics\n",
    "from tqdm import tqdm\n",
    "NUM_CLASSES = 32\n",
    "accuracy = torchmetrics.Accuracy(task='multiclass', num_classes=NUM_CLASSES).to(device)\n",
    "recall = torchmetrics.Recall(task='multiclass', num_classes=NUM_CLASSES).to(device)\n",
    "precision = torchmetrics.Precision(task='multiclass', num_classes=NUM_CLASSES).to(device)\n",
    "auroc = torchmetrics.AUROC(task='multiclass', num_classes=NUM_CLASSES).to(device)"
   ]
  },
  {
   "cell_type": "code",
   "execution_count": null,
   "id": "67b03f3e-f12d-4f60-a303-623267d28fa0",
   "metadata": {},
   "outputs": [
    {
     "name": "stderr",
     "output_type": "stream",
     "text": [
      "C:\\Users\\sk4835\\AppData\\Local\\Temp\\ipykernel_1920\\560115562.py:13: FutureWarning: You are using `torch.load` with `weights_only=False` (the current default value), which uses the default pickle module implicitly. It is possible to construct malicious pickle data which will execute arbitrary code during unpickling (See https://github.com/pytorch/pytorch/blob/main/SECURITY.md#untrusted-models for more details). In a future release, the default value for `weights_only` will be flipped to `True`. This limits the functions that could be executed during unpickling. Arbitrary objects will no longer be allowed to be loaded via this mode unless they are explicitly allowlisted by the user via `torch.serialization.add_safe_globals`. We recommend you start setting `weights_only=True` for any use case where you don't have full control of the loaded file. Please open an issue on GitHub for any issues related to this experimental feature.\n",
      "  f = torch.load(pt_path)\n",
      "\n",
      "raining: 100%|████████████████████████████████████████████████████████████████████| 1068/1068 [18:00<00:00,  1.01s/it]"
     ]
    },
    {
     "name": "stdout",
     "output_type": "stream",
     "text": [
      "Epoch 0: Training Loss: 3.5466350113854426\n"
     ]
    },
    {
     "name": "stderr",
     "output_type": "stream",
     "text": [
      "\n",
      "alidation: 100%|████████████████████████████████████████████████████████████████████| 267/267 [00:34<00:00,  7.83it/s]"
     ]
    },
    {
     "name": "stdout",
     "output_type": "stream",
     "text": [
      "Epoch 0: Validation Accuracy: tensor(0.0312, device='cuda:0')\n",
      "Epoch 0: Validation Precision: tensor(0.0312, device='cuda:0')\n",
      "Epoch 0: Validation Recall: tensor(0.0312, device='cuda:0')\n"
     ]
    },
    {
     "name": "stderr",
     "output_type": "stream",
     "text": [
      "\n",
      "raining: 100%|████████████████████████████████████████████████████████████████████| 1068/1068 [19:48<00:00,  1.11s/it]"
     ]
    },
    {
     "name": "stdout",
     "output_type": "stream",
     "text": [
      "Epoch 1: Training Loss: 3.4660963371451876\n"
     ]
    },
    {
     "name": "stderr",
     "output_type": "stream",
     "text": [
      "\n",
      "alidation: 100%|████████████████████████████████████████████████████████████████████| 267/267 [00:34<00:00,  7.80it/s]"
     ]
    },
    {
     "name": "stdout",
     "output_type": "stream",
     "text": [
      "Epoch 1: Validation Accuracy: tensor(0.0312, device='cuda:0')\n",
      "Epoch 1: Validation Precision: tensor(0.0312, device='cuda:0')\n",
      "Epoch 1: Validation Recall: tensor(0.0312, device='cuda:0')\n"
     ]
    },
    {
     "name": "stderr",
     "output_type": "stream",
     "text": [
      "\n",
      "raining: 100%|████████████████████████████████████████████████████████████████████| 1068/1068 [19:49<00:00,  1.11s/it]"
     ]
    },
    {
     "name": "stdout",
     "output_type": "stream",
     "text": [
      "Epoch 2: Training Loss: 3.465740100721295\n"
     ]
    },
    {
     "name": "stderr",
     "output_type": "stream",
     "text": [
      "\n",
      "alidation: 100%|████████████████████████████████████████████████████████████████████| 267/267 [00:34<00:00,  7.77it/s]"
     ]
    },
    {
     "name": "stdout",
     "output_type": "stream",
     "text": [
      "Epoch 2: Validation Accuracy: tensor(0.0312, device='cuda:0')\n",
      "Epoch 2: Validation Precision: tensor(0.0312, device='cuda:0')\n",
      "Epoch 2: Validation Recall: tensor(0.0312, device='cuda:0')\n"
     ]
    },
    {
     "name": "stderr",
     "output_type": "stream",
     "text": [
      "\n",
      "raining: 100%|████████████████████████████████████████████████████████████████████| 1068/1068 [19:46<00:00,  1.11s/it]"
     ]
    },
    {
     "name": "stdout",
     "output_type": "stream",
     "text": [
      "Epoch 3: Training Loss: 3.4659348172641424\n"
     ]
    },
    {
     "name": "stderr",
     "output_type": "stream",
     "text": [
      "\n",
      "alidation: 100%|████████████████████████████████████████████████████████████████████| 267/267 [00:33<00:00,  7.89it/s]"
     ]
    },
    {
     "name": "stdout",
     "output_type": "stream",
     "text": [
      "Epoch 3: Validation Accuracy: tensor(0.0312, device='cuda:0')\n",
      "Epoch 3: Validation Precision: tensor(0.0312, device='cuda:0')\n",
      "Epoch 3: Validation Recall: tensor(0.0312, device='cuda:0')\n"
     ]
    },
    {
     "name": "stderr",
     "output_type": "stream",
     "text": [
      "\n",
      "raining: 100%|████████████████████████████████████████████████████████████████████| 1068/1068 [19:50<00:00,  1.11s/it]"
     ]
    },
    {
     "name": "stdout",
     "output_type": "stream",
     "text": [
      "Epoch 4: Training Loss: 3.4657431532827654\n"
     ]
    },
    {
     "name": "stderr",
     "output_type": "stream",
     "text": [
      "\n",
      "alidation: 100%|████████████████████████████████████████████████████████████████████| 267/267 [00:34<00:00,  7.84it/s]"
     ]
    },
    {
     "name": "stdout",
     "output_type": "stream",
     "text": [
      "Epoch 4: Validation Accuracy: tensor(0.0312, device='cuda:0')\n",
      "Epoch 4: Validation Precision: tensor(0.0312, device='cuda:0')\n",
      "Epoch 4: Validation Recall: tensor(0.0312, device='cuda:0')\n"
     ]
    },
    {
     "name": "stderr",
     "output_type": "stream",
     "text": [
      "\n",
      "raining: 100%|████████████████████████████████████████████████████████████████████| 1068/1068 [19:47<00:00,  1.11s/it]"
     ]
    },
    {
     "name": "stdout",
     "output_type": "stream",
     "text": [
      "Epoch 5: Training Loss: 3.4658019937826006\n"
     ]
    },
    {
     "name": "stderr",
     "output_type": "stream",
     "text": [
      "\n",
      "alidation: 100%|████████████████████████████████████████████████████████████████████| 267/267 [00:34<00:00,  7.84it/s]"
     ]
    },
    {
     "name": "stdout",
     "output_type": "stream",
     "text": [
      "Epoch 5: Validation Accuracy: tensor(0.0312, device='cuda:0')\n",
      "Epoch 5: Validation Precision: tensor(0.0312, device='cuda:0')\n",
      "Epoch 5: Validation Recall: tensor(0.0312, device='cuda:0')\n"
     ]
    },
    {
     "name": "stderr",
     "output_type": "stream",
     "text": [
      "\n",
      "raining: 100%|████████████████████████████████████████████████████████████████████| 1068/1068 [19:46<00:00,  1.11s/it]"
     ]
    },
    {
     "name": "stdout",
     "output_type": "stream",
     "text": [
      "Epoch 6: Training Loss: 3.465737959865327\n"
     ]
    },
    {
     "name": "stderr",
     "output_type": "stream",
     "text": [
      "\n",
      "alidation: 100%|████████████████████████████████████████████████████████████████████| 267/267 [00:34<00:00,  7.81it/s]"
     ]
    },
    {
     "name": "stdout",
     "output_type": "stream",
     "text": [
      "Epoch 6: Validation Accuracy: tensor(0.0312, device='cuda:0')\n",
      "Epoch 6: Validation Precision: tensor(0.0312, device='cuda:0')\n",
      "Epoch 6: Validation Recall: tensor(0.0312, device='cuda:0')\n"
     ]
    },
    {
     "name": "stderr",
     "output_type": "stream",
     "text": [
      "\n",
      "raining: 100%|████████████████████████████████████████████████████████████████████| 1068/1068 [19:47<00:00,  1.11s/it]"
     ]
    },
    {
     "name": "stdout",
     "output_type": "stream",
     "text": [
      "Epoch 7: Training Loss: 3.4657572952102633\n"
     ]
    },
    {
     "name": "stderr",
     "output_type": "stream",
     "text": [
      "\n",
      "alidation: 100%|████████████████████████████████████████████████████████████████████| 267/267 [00:34<00:00,  7.81it/s]"
     ]
    },
    {
     "name": "stdout",
     "output_type": "stream",
     "text": [
      "Epoch 7: Validation Accuracy: tensor(0.0312, device='cuda:0')\n",
      "Epoch 7: Validation Precision: tensor(0.0312, device='cuda:0')\n",
      "Epoch 7: Validation Recall: tensor(0.0312, device='cuda:0')\n"
     ]
    },
    {
     "name": "stderr",
     "output_type": "stream",
     "text": [
      "\n",
      "raining: 100%|████████████████████████████████████████████████████████████████████| 1068/1068 [19:46<00:00,  1.11s/it]"
     ]
    },
    {
     "name": "stdout",
     "output_type": "stream",
     "text": [
      "Epoch 8: Training Loss: 3.4657369651151506\n"
     ]
    },
    {
     "name": "stderr",
     "output_type": "stream",
     "text": [
      "\n",
      "alidation: 100%|████████████████████████████████████████████████████████████████████| 267/267 [00:33<00:00,  7.86it/s]"
     ]
    },
    {
     "name": "stdout",
     "output_type": "stream",
     "text": [
      "Epoch 8: Validation Accuracy: tensor(0.0312, device='cuda:0')\n",
      "Epoch 8: Validation Precision: tensor(0.0312, device='cuda:0')\n",
      "Epoch 8: Validation Recall: tensor(0.0312, device='cuda:0')\n"
     ]
    },
    {
     "name": "stderr",
     "output_type": "stream",
     "text": [
      "Training:   9%|██████                                                                | 93/1068 [01:45<16:20,  1.01s/it]"
     ]
    }
   ],
   "source": [
    "params = model.parameters()\n",
    "optimizer = torch.optim.Adam(params, lr=5e-2)\n",
    "scheduler = torch.optim.lr_scheduler.StepLR(optimizer, step_size=2, gamma=0.5)\n",
    "\n",
    "num_epochs = 10\n",
    "for epoch in range(num_epochs):\n",
    "    tr_loss = 0\n",
    "    nb_tr_steps = 0\n",
    "    for x, y in tqdm(train_dataloader, desc='Training: '):\n",
    "        x = x.squeeze().to(device)\n",
    "        y = y.squeeze().to(device)\n",
    "        \n",
    "        optimizer.zero_grad()\n",
    "\n",
    "        try:\n",
    "            logits = model(x)\n",
    "        except Exception as e:\n",
    "            print(x.shape, y)\n",
    "            raise e\n",
    "\n",
    "        loss = F.cross_entropy(logits, y)\n",
    "\n",
    "        loss.backward()\n",
    "        \n",
    "        optimizer.step()\n",
    "\n",
    "        tr_loss += loss.item()\n",
    "        nb_tr_steps += 1\n",
    "    scheduler.step()\n",
    "\n",
    "    print(f'Epoch {epoch}: Training Loss:', tr_loss / nb_tr_steps)\n",
    "\n",
    "    model.eval()\n",
    "    val_acc = []\n",
    "    val_prec = []\n",
    "    val_rec = []\n",
    "    val_auroc = []\n",
    "    for x, y in tqdm(test_dataloader, desc='Validation'):\n",
    "        x = x.squeeze().to(device)\n",
    "        y = y.squeeze().to(device)\n",
    "        \n",
    "        logits = model(x)\n",
    "        prediction = torch.argmax(logits, dim=-1)\n",
    "\n",
    "        val_acc.append(accuracy(prediction, y))\n",
    "        val_prec.append(precision(prediction, y))\n",
    "        val_rec.append(recall(prediction, y))\n",
    "        # val_auroc.append(auroc(prediction, y))\n",
    "\n",
    "    print(f'Epoch {epoch}: Validation Accuracy:', sum(val_acc) / len(val_acc))\n",
    "    print(f'Epoch {epoch}: Validation Precision:', sum(val_prec) / len(val_prec))\n",
    "    print(f'Epoch {epoch}: Validation Recall:', sum(val_rec) / len(val_rec))\n",
    "    # print(f'Epoch {epoch}: Validation AUROC:', sum(val_auroc) / len(val_auroc))"
   ]
  },
  {
   "cell_type": "code",
   "execution_count": 25,
   "id": "efb1f03d-a7d0-4bf5-99a7-bfec49f6dfa8",
   "metadata": {
    "scrolled": true
   },
   "outputs": [
    {
     "data": {
      "text/plain": [
       "ConvNeXt(\n",
       "  (features): Sequential(\n",
       "    (0): Conv2dNormActivation(\n",
       "      (0): Conv2d(1024, 96, kernel_size=(4, 4), stride=(4, 4))\n",
       "      (1): LayerNorm2d((96,), eps=1e-06, elementwise_affine=True)\n",
       "    )\n",
       "    (1): Sequential(\n",
       "      (0): CNBlock(\n",
       "        (block): Sequential(\n",
       "          (0): Conv2d(96, 96, kernel_size=(7, 7), stride=(1, 1), padding=(3, 3), groups=96)\n",
       "          (1): Permute()\n",
       "          (2): LayerNorm((96,), eps=1e-06, elementwise_affine=True)\n",
       "          (3): Linear(in_features=96, out_features=384, bias=True)\n",
       "          (4): GELU(approximate='none')\n",
       "          (5): Linear(in_features=384, out_features=96, bias=True)\n",
       "          (6): Permute()\n",
       "        )\n",
       "        (stochastic_depth): StochasticDepth(p=0.0, mode=row)\n",
       "      )\n",
       "      (1): CNBlock(\n",
       "        (block): Sequential(\n",
       "          (0): Conv2d(96, 96, kernel_size=(7, 7), stride=(1, 1), padding=(3, 3), groups=96)\n",
       "          (1): Permute()\n",
       "          (2): LayerNorm((96,), eps=1e-06, elementwise_affine=True)\n",
       "          (3): Linear(in_features=96, out_features=384, bias=True)\n",
       "          (4): GELU(approximate='none')\n",
       "          (5): Linear(in_features=384, out_features=96, bias=True)\n",
       "          (6): Permute()\n",
       "        )\n",
       "        (stochastic_depth): StochasticDepth(p=0.0058823529411764705, mode=row)\n",
       "      )\n",
       "      (2): CNBlock(\n",
       "        (block): Sequential(\n",
       "          (0): Conv2d(96, 96, kernel_size=(7, 7), stride=(1, 1), padding=(3, 3), groups=96)\n",
       "          (1): Permute()\n",
       "          (2): LayerNorm((96,), eps=1e-06, elementwise_affine=True)\n",
       "          (3): Linear(in_features=96, out_features=384, bias=True)\n",
       "          (4): GELU(approximate='none')\n",
       "          (5): Linear(in_features=384, out_features=96, bias=True)\n",
       "          (6): Permute()\n",
       "        )\n",
       "        (stochastic_depth): StochasticDepth(p=0.011764705882352941, mode=row)\n",
       "      )\n",
       "    )\n",
       "    (2): Sequential(\n",
       "      (0): LayerNorm2d((96,), eps=1e-06, elementwise_affine=True)\n",
       "      (1): Conv2d(96, 192, kernel_size=(2, 2), stride=(2, 2))\n",
       "    )\n",
       "    (3): Sequential(\n",
       "      (0): CNBlock(\n",
       "        (block): Sequential(\n",
       "          (0): Conv2d(192, 192, kernel_size=(7, 7), stride=(1, 1), padding=(3, 3), groups=192)\n",
       "          (1): Permute()\n",
       "          (2): LayerNorm((192,), eps=1e-06, elementwise_affine=True)\n",
       "          (3): Linear(in_features=192, out_features=768, bias=True)\n",
       "          (4): GELU(approximate='none')\n",
       "          (5): Linear(in_features=768, out_features=192, bias=True)\n",
       "          (6): Permute()\n",
       "        )\n",
       "        (stochastic_depth): StochasticDepth(p=0.017647058823529415, mode=row)\n",
       "      )\n",
       "      (1): CNBlock(\n",
       "        (block): Sequential(\n",
       "          (0): Conv2d(192, 192, kernel_size=(7, 7), stride=(1, 1), padding=(3, 3), groups=192)\n",
       "          (1): Permute()\n",
       "          (2): LayerNorm((192,), eps=1e-06, elementwise_affine=True)\n",
       "          (3): Linear(in_features=192, out_features=768, bias=True)\n",
       "          (4): GELU(approximate='none')\n",
       "          (5): Linear(in_features=768, out_features=192, bias=True)\n",
       "          (6): Permute()\n",
       "        )\n",
       "        (stochastic_depth): StochasticDepth(p=0.023529411764705882, mode=row)\n",
       "      )\n",
       "      (2): CNBlock(\n",
       "        (block): Sequential(\n",
       "          (0): Conv2d(192, 192, kernel_size=(7, 7), stride=(1, 1), padding=(3, 3), groups=192)\n",
       "          (1): Permute()\n",
       "          (2): LayerNorm((192,), eps=1e-06, elementwise_affine=True)\n",
       "          (3): Linear(in_features=192, out_features=768, bias=True)\n",
       "          (4): GELU(approximate='none')\n",
       "          (5): Linear(in_features=768, out_features=192, bias=True)\n",
       "          (6): Permute()\n",
       "        )\n",
       "        (stochastic_depth): StochasticDepth(p=0.029411764705882353, mode=row)\n",
       "      )\n",
       "    )\n",
       "    (4): Sequential(\n",
       "      (0): LayerNorm2d((192,), eps=1e-06, elementwise_affine=True)\n",
       "      (1): Conv2d(192, 384, kernel_size=(2, 2), stride=(2, 2))\n",
       "    )\n",
       "    (5): Sequential(\n",
       "      (0): CNBlock(\n",
       "        (block): Sequential(\n",
       "          (0): Conv2d(384, 384, kernel_size=(7, 7), stride=(1, 1), padding=(3, 3), groups=384)\n",
       "          (1): Permute()\n",
       "          (2): LayerNorm((384,), eps=1e-06, elementwise_affine=True)\n",
       "          (3): Linear(in_features=384, out_features=1536, bias=True)\n",
       "          (4): GELU(approximate='none')\n",
       "          (5): Linear(in_features=1536, out_features=384, bias=True)\n",
       "          (6): Permute()\n",
       "        )\n",
       "        (stochastic_depth): StochasticDepth(p=0.03529411764705883, mode=row)\n",
       "      )\n",
       "      (1): CNBlock(\n",
       "        (block): Sequential(\n",
       "          (0): Conv2d(384, 384, kernel_size=(7, 7), stride=(1, 1), padding=(3, 3), groups=384)\n",
       "          (1): Permute()\n",
       "          (2): LayerNorm((384,), eps=1e-06, elementwise_affine=True)\n",
       "          (3): Linear(in_features=384, out_features=1536, bias=True)\n",
       "          (4): GELU(approximate='none')\n",
       "          (5): Linear(in_features=1536, out_features=384, bias=True)\n",
       "          (6): Permute()\n",
       "        )\n",
       "        (stochastic_depth): StochasticDepth(p=0.0411764705882353, mode=row)\n",
       "      )\n",
       "      (2): CNBlock(\n",
       "        (block): Sequential(\n",
       "          (0): Conv2d(384, 384, kernel_size=(7, 7), stride=(1, 1), padding=(3, 3), groups=384)\n",
       "          (1): Permute()\n",
       "          (2): LayerNorm((384,), eps=1e-06, elementwise_affine=True)\n",
       "          (3): Linear(in_features=384, out_features=1536, bias=True)\n",
       "          (4): GELU(approximate='none')\n",
       "          (5): Linear(in_features=1536, out_features=384, bias=True)\n",
       "          (6): Permute()\n",
       "        )\n",
       "        (stochastic_depth): StochasticDepth(p=0.047058823529411764, mode=row)\n",
       "      )\n",
       "      (3): CNBlock(\n",
       "        (block): Sequential(\n",
       "          (0): Conv2d(384, 384, kernel_size=(7, 7), stride=(1, 1), padding=(3, 3), groups=384)\n",
       "          (1): Permute()\n",
       "          (2): LayerNorm((384,), eps=1e-06, elementwise_affine=True)\n",
       "          (3): Linear(in_features=384, out_features=1536, bias=True)\n",
       "          (4): GELU(approximate='none')\n",
       "          (5): Linear(in_features=1536, out_features=384, bias=True)\n",
       "          (6): Permute()\n",
       "        )\n",
       "        (stochastic_depth): StochasticDepth(p=0.052941176470588235, mode=row)\n",
       "      )\n",
       "      (4): CNBlock(\n",
       "        (block): Sequential(\n",
       "          (0): Conv2d(384, 384, kernel_size=(7, 7), stride=(1, 1), padding=(3, 3), groups=384)\n",
       "          (1): Permute()\n",
       "          (2): LayerNorm((384,), eps=1e-06, elementwise_affine=True)\n",
       "          (3): Linear(in_features=384, out_features=1536, bias=True)\n",
       "          (4): GELU(approximate='none')\n",
       "          (5): Linear(in_features=1536, out_features=384, bias=True)\n",
       "          (6): Permute()\n",
       "        )\n",
       "        (stochastic_depth): StochasticDepth(p=0.058823529411764705, mode=row)\n",
       "      )\n",
       "      (5): CNBlock(\n",
       "        (block): Sequential(\n",
       "          (0): Conv2d(384, 384, kernel_size=(7, 7), stride=(1, 1), padding=(3, 3), groups=384)\n",
       "          (1): Permute()\n",
       "          (2): LayerNorm((384,), eps=1e-06, elementwise_affine=True)\n",
       "          (3): Linear(in_features=384, out_features=1536, bias=True)\n",
       "          (4): GELU(approximate='none')\n",
       "          (5): Linear(in_features=1536, out_features=384, bias=True)\n",
       "          (6): Permute()\n",
       "        )\n",
       "        (stochastic_depth): StochasticDepth(p=0.06470588235294118, mode=row)\n",
       "      )\n",
       "      (6): CNBlock(\n",
       "        (block): Sequential(\n",
       "          (0): Conv2d(384, 384, kernel_size=(7, 7), stride=(1, 1), padding=(3, 3), groups=384)\n",
       "          (1): Permute()\n",
       "          (2): LayerNorm((384,), eps=1e-06, elementwise_affine=True)\n",
       "          (3): Linear(in_features=384, out_features=1536, bias=True)\n",
       "          (4): GELU(approximate='none')\n",
       "          (5): Linear(in_features=1536, out_features=384, bias=True)\n",
       "          (6): Permute()\n",
       "        )\n",
       "        (stochastic_depth): StochasticDepth(p=0.07058823529411766, mode=row)\n",
       "      )\n",
       "      (7): CNBlock(\n",
       "        (block): Sequential(\n",
       "          (0): Conv2d(384, 384, kernel_size=(7, 7), stride=(1, 1), padding=(3, 3), groups=384)\n",
       "          (1): Permute()\n",
       "          (2): LayerNorm((384,), eps=1e-06, elementwise_affine=True)\n",
       "          (3): Linear(in_features=384, out_features=1536, bias=True)\n",
       "          (4): GELU(approximate='none')\n",
       "          (5): Linear(in_features=1536, out_features=384, bias=True)\n",
       "          (6): Permute()\n",
       "        )\n",
       "        (stochastic_depth): StochasticDepth(p=0.07647058823529412, mode=row)\n",
       "      )\n",
       "      (8): CNBlock(\n",
       "        (block): Sequential(\n",
       "          (0): Conv2d(384, 384, kernel_size=(7, 7), stride=(1, 1), padding=(3, 3), groups=384)\n",
       "          (1): Permute()\n",
       "          (2): LayerNorm((384,), eps=1e-06, elementwise_affine=True)\n",
       "          (3): Linear(in_features=384, out_features=1536, bias=True)\n",
       "          (4): GELU(approximate='none')\n",
       "          (5): Linear(in_features=1536, out_features=384, bias=True)\n",
       "          (6): Permute()\n",
       "        )\n",
       "        (stochastic_depth): StochasticDepth(p=0.0823529411764706, mode=row)\n",
       "      )\n",
       "    )\n",
       "    (6): Sequential(\n",
       "      (0): LayerNorm2d((384,), eps=1e-06, elementwise_affine=True)\n",
       "      (1): Conv2d(384, 768, kernel_size=(2, 2), stride=(2, 2))\n",
       "    )\n",
       "    (7): Sequential(\n",
       "      (0): CNBlock(\n",
       "        (block): Sequential(\n",
       "          (0): Conv2d(768, 768, kernel_size=(7, 7), stride=(1, 1), padding=(3, 3), groups=768)\n",
       "          (1): Permute()\n",
       "          (2): LayerNorm((768,), eps=1e-06, elementwise_affine=True)\n",
       "          (3): Linear(in_features=768, out_features=3072, bias=True)\n",
       "          (4): GELU(approximate='none')\n",
       "          (5): Linear(in_features=3072, out_features=768, bias=True)\n",
       "          (6): Permute()\n",
       "        )\n",
       "        (stochastic_depth): StochasticDepth(p=0.08823529411764706, mode=row)\n",
       "      )\n",
       "      (1): CNBlock(\n",
       "        (block): Sequential(\n",
       "          (0): Conv2d(768, 768, kernel_size=(7, 7), stride=(1, 1), padding=(3, 3), groups=768)\n",
       "          (1): Permute()\n",
       "          (2): LayerNorm((768,), eps=1e-06, elementwise_affine=True)\n",
       "          (3): Linear(in_features=768, out_features=3072, bias=True)\n",
       "          (4): GELU(approximate='none')\n",
       "          (5): Linear(in_features=3072, out_features=768, bias=True)\n",
       "          (6): Permute()\n",
       "        )\n",
       "        (stochastic_depth): StochasticDepth(p=0.09411764705882353, mode=row)\n",
       "      )\n",
       "      (2): CNBlock(\n",
       "        (block): Sequential(\n",
       "          (0): Conv2d(768, 768, kernel_size=(7, 7), stride=(1, 1), padding=(3, 3), groups=768)\n",
       "          (1): Permute()\n",
       "          (2): LayerNorm((768,), eps=1e-06, elementwise_affine=True)\n",
       "          (3): Linear(in_features=768, out_features=3072, bias=True)\n",
       "          (4): GELU(approximate='none')\n",
       "          (5): Linear(in_features=3072, out_features=768, bias=True)\n",
       "          (6): Permute()\n",
       "        )\n",
       "        (stochastic_depth): StochasticDepth(p=0.1, mode=row)\n",
       "      )\n",
       "    )\n",
       "  )\n",
       "  (avgpool): AdaptiveAvgPool2d(output_size=1)\n",
       "  (classifier): Sequential(\n",
       "    (0): LayerNorm2d((768,), eps=1e-06, elementwise_affine=True)\n",
       "    (1): Flatten(start_dim=1, end_dim=-1)\n",
       "    (2): Linear(in_features=768, out_features=2, bias=True)\n",
       "  )\n",
       ")"
      ]
     },
     "execution_count": 25,
     "metadata": {},
     "output_type": "execute_result"
    }
   ],
   "source": [
    "# model = torchvision.models.convnext_tiny(weights=convnext.ConvNeXt_Tiny_Weights.DEFAULT)\n",
    "model = torchvision.models.convnext_tiny()\n",
    "# Change features\n",
    "IN_CHANNELS = 32*32\n",
    "device = 'cuda'\n",
    "model.features[0][0] = nn.Conv2d(IN_CHANNELS, 96, kernel_size=(4,4), stride=(4,4))\n",
    "model.classifier[2] = nn.Linear(768, 2)\n",
    "model.to(device)\n",
    "model"
   ]
  },
  {
   "cell_type": "code",
   "execution_count": 36,
   "id": "ff760250-a4fd-4680-90f7-9b846933d103",
   "metadata": {},
   "outputs": [],
   "source": [
    "class AllAttentionMapDataset(torch.utils.data.Dataset):\n",
    "    def __init__(self, root, annotations_file, transform=None, target_transform=None):\n",
    "        self.root = Path(root)\n",
    "        self.files = pd.read_csv(annotations_file)\n",
    "        self.transform = transform\n",
    "        self.target_transform = target_transform\n",
    "\n",
    "    def __len__(self):\n",
    "        return len(self.files)\n",
    "\n",
    "    def __getitem__(self, idx):\n",
    "        item = self.files.iloc[idx]\n",
    "        pt_path = self.root / item['filename']\n",
    "        heads = torch.load(pt_path)\n",
    "        heads = torch.stack(heads, dim=0).flatten(start_dim=0, end_dim=2)  # 2 is exclusive, only flattens dim0 and dim1\n",
    "        if self.transform:\n",
    "            heads = self.transform(heads)\n",
    "        return heads.to(torch.float32), torch.tensor(item['prediction'] == item['correct']).to(torch.long)"
   ]
  },
  {
   "cell_type": "code",
   "execution_count": 37,
   "id": "a3f71ddf-6103-4d83-b91c-8acfb2e7b8bb",
   "metadata": {},
   "outputs": [],
   "source": [
    "from torchvision.transforms import v2 as transforms\n",
    "transform = transforms.Compose([\n",
    "    transforms.RandomHorizontalFlip(0.5),\n",
    "    transforms.RandomVerticalFlip(0.5),\n",
    "    transforms.RandomChannelPermutation(),\n",
    "    transforms.Normalize([0.5], [0.25]),\n",
    "])\n",
    "\n",
    "# dataset = AttentionMapDataset(Path.home() / \"Downloads/mmlu_output/\", Path.home() / \"Downloads/mmlu_attention_files_list.txt\", transform=transform)\n",
    "dataset = AllAttentionMapDataset(Path.home() / \"Downloads/mmlu_output/\", Path.home() / \"Downloads/mmlu_attention_files_list.txt\", transform=transform)\n",
    "\n",
    "# Randomly split into training and test set\n",
    "indices = torch.randperm(len(dataset)).tolist()\n",
    "split_idx = int(len(indices) * 0.8)\n",
    "training_data = torch.utils.data.Subset(dataset, indices[:split_idx])\n",
    "validation_data = torch.utils.data.Subset(dataset, indices[split_idx:])"
   ]
  },
  {
   "cell_type": "code",
   "execution_count": 38,
   "id": "2ec5b3f1-4612-4413-960d-aeaa0d7cd54c",
   "metadata": {},
   "outputs": [
    {
     "data": {
      "text/plain": [
       "(1068, 267)"
      ]
     },
     "execution_count": 38,
     "metadata": {},
     "output_type": "execute_result"
    }
   ],
   "source": [
    "len(training_data), len(test_data)"
   ]
  },
  {
   "cell_type": "code",
   "execution_count": 39,
   "id": "497bfe59-fcd2-4bf6-ad7d-e10d86e8270f",
   "metadata": {},
   "outputs": [],
   "source": [
    "train_dataloader = torch.utils.data.DataLoader(training_data, batch_size=1)\n",
    "validation_dataloader = torch.utils.data.DataLoader(validation_data, batch_size=1)"
   ]
  },
  {
   "cell_type": "code",
   "execution_count": 40,
   "id": "8f016950-0650-4604-b66a-003184861ed9",
   "metadata": {
    "scrolled": true
   },
   "outputs": [
    {
     "name": "stderr",
     "output_type": "stream",
     "text": [
      "C:\\Users\\sk4835\\AppData\\Local\\Temp\\ipykernel_13764\\4137315560.py:14: FutureWarning: You are using `torch.load` with `weights_only=False` (the current default value), which uses the default pickle module implicitly. It is possible to construct malicious pickle data which will execute arbitrary code during unpickling (See https://github.com/pytorch/pytorch/blob/main/SECURITY.md#untrusted-models for more details). In a future release, the default value for `weights_only` will be flipped to `True`. This limits the functions that could be executed during unpickling. Arbitrary objects will no longer be allowed to be loaded via this mode unless they are explicitly allowlisted by the user via `torch.serialization.add_safe_globals`. We recommend you start setting `weights_only=True` for any use case where you don't have full control of the loaded file. Please open an issue on GitHub for any issues related to this experimental feature.\n",
      "  heads = torch.load(pt_path)\n"
     ]
    },
    {
     "data": {
      "text/plain": [
       "torch.Size([1024, 74, 74])"
      ]
     },
     "execution_count": 40,
     "metadata": {},
     "output_type": "execute_result"
    }
   ],
   "source": [
    "training_data.__getitem__(0)[0].shape"
   ]
  },
  {
   "cell_type": "code",
   "execution_count": 41,
   "id": "b641a899-4904-4259-b8e7-c20e701f16f2",
   "metadata": {},
   "outputs": [
    {
     "name": "stderr",
     "output_type": "stream",
     "text": [
      "C:\\Users\\sk4835\\AppData\\Local\\Temp\\ipykernel_13764\\4137315560.py:14: FutureWarning: You are using `torch.load` with `weights_only=False` (the current default value), which uses the default pickle module implicitly. It is possible to construct malicious pickle data which will execute arbitrary code during unpickling (See https://github.com/pytorch/pytorch/blob/main/SECURITY.md#untrusted-models for more details). In a future release, the default value for `weights_only` will be flipped to `True`. This limits the functions that could be executed during unpickling. Arbitrary objects will no longer be allowed to be loaded via this mode unless they are explicitly allowlisted by the user via `torch.serialization.add_safe_globals`. We recommend you start setting `weights_only=True` for any use case where you don't have full control of the loaded file. Please open an issue on GitHub for any issues related to this experimental feature.\n",
      "  heads = torch.load(pt_path)\n"
     ]
    },
    {
     "data": {
      "text/plain": [
       "tensor([[-0.3492,  0.3039]], device='cuda:0', grad_fn=<AddmmBackward0>)"
      ]
     },
     "execution_count": 41,
     "metadata": {},
     "output_type": "execute_result"
    }
   ],
   "source": [
    "model(training_data.__getitem__(0)[0].unsqueeze(0))"
   ]
  },
  {
   "cell_type": "code",
   "execution_count": 42,
   "id": "9ff780c0-b312-4530-9190-02833f5a8977",
   "metadata": {},
   "outputs": [],
   "source": [
    "import torch.nn.functional as F\n",
    "import torchmetrics\n",
    "from tqdm import tqdm\n",
    "accuracy = torchmetrics.Accuracy(task='binary').to(device)\n",
    "recall = torchmetrics.Recall(task='binary').to(device)\n",
    "precision = torchmetrics.Precision(task='binary').to(device)\n",
    "auroc = torchmetrics.AUROC(task='binary').to(device)"
   ]
  },
  {
   "cell_type": "code",
   "execution_count": 43,
   "id": "39a3dc7d-2b4e-44d5-85be-3e07c79f5ef6",
   "metadata": {},
   "outputs": [
    {
     "name": "stderr",
     "output_type": "stream",
     "text": [
      "C:\\Users\\sk4835\\AppData\\Local\\Temp\\ipykernel_13764\\4137315560.py:14: FutureWarning: You are using `torch.load` with `weights_only=False` (the current default value), which uses the default pickle module implicitly. It is possible to construct malicious pickle data which will execute arbitrary code during unpickling (See https://github.com/pytorch/pytorch/blob/main/SECURITY.md#untrusted-models for more details). In a future release, the default value for `weights_only` will be flipped to `True`. This limits the functions that could be executed during unpickling. Arbitrary objects will no longer be allowed to be loaded via this mode unless they are explicitly allowlisted by the user via `torch.serialization.add_safe_globals`. We recommend you start setting `weights_only=True` for any use case where you don't have full control of the loaded file. Please open an issue on GitHub for any issues related to this experimental feature.\n",
      "  heads = torch.load(pt_path)\n",
      "\n",
      "raining: 100%|████████████████████████████████████████████████████████████████████| 1068/1068 [00:59<00:00, 17.89it/s]"
     ]
    },
    {
     "name": "stdout",
     "output_type": "stream",
     "text": [
      "Epoch 0: Training Loss: 1.2979160130226597\n"
     ]
    },
    {
     "name": "stderr",
     "output_type": "stream",
     "text": [
      "C:\\Users\\sk4835\\miniconda3\\envs\\llama-env\\lib\\site-packages\\torchmetrics\\utilities\\prints.py:43: UserWarning: No positive samples in targets, true positive value should be meaningless. Returning zero tensor in true positive score\n",
      "  warnings.warn(*args, **kwargs)  # noqa: B028\n",
      "C:\\Users\\sk4835\\miniconda3\\envs\\llama-env\\lib\\site-packages\\torchmetrics\\utilities\\prints.py:43: UserWarning: No negative samples in targets, false positive value should be meaningless. Returning zero tensor in false positive score\n",
      "  warnings.warn(*args, **kwargs)  # noqa: B028\n",
      "\n",
      "alidation: 100%|████████████████████████████████████████████████████████████████████| 267/267 [00:12<00:00, 20.76it/s]"
     ]
    },
    {
     "name": "stdout",
     "output_type": "stream",
     "text": [
      "Epoch 0: Validation Accuracy: tensor(0.4944, device='cuda:0')\n",
      "Epoch 0: Validation Precision: tensor(0.4944, device='cuda:0')\n",
      "Epoch 0: Validation Recall: tensor(0.4944, device='cuda:0')\n",
      "Epoch 0: Validation AUROC: tensor(0., device='cuda:0')\n"
     ]
    },
    {
     "name": "stderr",
     "output_type": "stream",
     "text": [
      "\n",
      "raining: 100%|████████████████████████████████████████████████████████████████████| 1068/1068 [00:55<00:00, 19.36it/s]"
     ]
    },
    {
     "name": "stdout",
     "output_type": "stream",
     "text": [
      "Epoch 1: Training Loss: 0.7849293898534699\n"
     ]
    },
    {
     "name": "stderr",
     "output_type": "stream",
     "text": [
      "\n",
      "alidation: 100%|████████████████████████████████████████████████████████████████████| 267/267 [00:13<00:00, 20.32it/s]"
     ]
    },
    {
     "name": "stdout",
     "output_type": "stream",
     "text": [
      "Epoch 1: Validation Accuracy: tensor(0.4944, device='cuda:0')\n",
      "Epoch 1: Validation Precision: tensor(0.4944, device='cuda:0')\n",
      "Epoch 1: Validation Recall: tensor(0.4944, device='cuda:0')\n",
      "Epoch 1: Validation AUROC: tensor(0., device='cuda:0')\n"
     ]
    },
    {
     "name": "stderr",
     "output_type": "stream",
     "text": [
      "\n",
      "raining: 100%|████████████████████████████████████████████████████████████████████| 1068/1068 [00:52<00:00, 20.16it/s]"
     ]
    },
    {
     "name": "stdout",
     "output_type": "stream",
     "text": [
      "Epoch 2: Training Loss: 0.7033707734741522\n"
     ]
    },
    {
     "name": "stderr",
     "output_type": "stream",
     "text": [
      "\n",
      "alidation: 100%|████████████████████████████████████████████████████████████████████| 267/267 [00:15<00:00, 17.22it/s]"
     ]
    },
    {
     "name": "stdout",
     "output_type": "stream",
     "text": [
      "Epoch 2: Validation Accuracy: tensor(0.4944, device='cuda:0')\n",
      "Epoch 2: Validation Precision: tensor(0.4944, device='cuda:0')\n",
      "Epoch 2: Validation Recall: tensor(0.4944, device='cuda:0')\n",
      "Epoch 2: Validation AUROC: tensor(0., device='cuda:0')\n"
     ]
    },
    {
     "name": "stderr",
     "output_type": "stream",
     "text": [
      "\n",
      "raining: 100%|████████████████████████████████████████████████████████████████████| 1068/1068 [00:55<00:00, 19.30it/s]"
     ]
    },
    {
     "name": "stdout",
     "output_type": "stream",
     "text": [
      "Epoch 3: Training Loss: 0.6957453842020214\n"
     ]
    },
    {
     "name": "stderr",
     "output_type": "stream",
     "text": [
      "\n",
      "alidation: 100%|████████████████████████████████████████████████████████████████████| 267/267 [00:17<00:00, 15.35it/s]"
     ]
    },
    {
     "name": "stdout",
     "output_type": "stream",
     "text": [
      "Epoch 3: Validation Accuracy: tensor(0.4944, device='cuda:0')\n",
      "Epoch 3: Validation Precision: tensor(0.4944, device='cuda:0')\n",
      "Epoch 3: Validation Recall: tensor(0.4944, device='cuda:0')\n",
      "Epoch 3: Validation AUROC: tensor(0., device='cuda:0')\n"
     ]
    },
    {
     "name": "stderr",
     "output_type": "stream",
     "text": [
      "\n",
      "raining: 100%|████████████████████████████████████████████████████████████████████| 1068/1068 [00:52<00:00, 20.33it/s]"
     ]
    },
    {
     "name": "stdout",
     "output_type": "stream",
     "text": [
      "Epoch 4: Training Loss: 0.6949262813794033\n"
     ]
    },
    {
     "name": "stderr",
     "output_type": "stream",
     "text": [
      "\n",
      "alidation: 100%|████████████████████████████████████████████████████████████████████| 267/267 [00:19<00:00, 13.56it/s]"
     ]
    },
    {
     "name": "stdout",
     "output_type": "stream",
     "text": [
      "Epoch 4: Validation Accuracy: tensor(0.4944, device='cuda:0')\n",
      "Epoch 4: Validation Precision: tensor(0.4944, device='cuda:0')\n",
      "Epoch 4: Validation Recall: tensor(0.4944, device='cuda:0')\n",
      "Epoch 4: Validation AUROC: tensor(0., device='cuda:0')\n"
     ]
    },
    {
     "name": "stderr",
     "output_type": "stream",
     "text": [
      "\n",
      "raining: 100%|████████████████████████████████████████████████████████████████████| 1068/1068 [00:55<00:00, 19.36it/s]"
     ]
    },
    {
     "name": "stdout",
     "output_type": "stream",
     "text": [
      "Epoch 5: Training Loss: 0.6937967861971158\n"
     ]
    },
    {
     "name": "stderr",
     "output_type": "stream",
     "text": [
      "\n",
      "alidation: 100%|████████████████████████████████████████████████████████████████████| 267/267 [00:21<00:00, 12.18it/s]"
     ]
    },
    {
     "name": "stdout",
     "output_type": "stream",
     "text": [
      "Epoch 5: Validation Accuracy: tensor(0.4944, device='cuda:0')\n",
      "Epoch 5: Validation Precision: tensor(0.4944, device='cuda:0')\n",
      "Epoch 5: Validation Recall: tensor(0.4944, device='cuda:0')\n",
      "Epoch 5: Validation AUROC: tensor(0., device='cuda:0')\n"
     ]
    },
    {
     "name": "stderr",
     "output_type": "stream",
     "text": [
      "\n",
      "raining: 100%|████████████████████████████████████████████████████████████████████| 1068/1068 [00:53<00:00, 20.05it/s]"
     ]
    },
    {
     "name": "stdout",
     "output_type": "stream",
     "text": [
      "Epoch 6: Training Loss: 0.6934781480259663\n"
     ]
    },
    {
     "name": "stderr",
     "output_type": "stream",
     "text": [
      "\n",
      "alidation: 100%|████████████████████████████████████████████████████████████████████| 267/267 [00:24<00:00, 11.09it/s]"
     ]
    },
    {
     "name": "stdout",
     "output_type": "stream",
     "text": [
      "Epoch 6: Validation Accuracy: tensor(0.5056, device='cuda:0')\n",
      "Epoch 6: Validation Precision: tensor(0., device='cuda:0')\n",
      "Epoch 6: Validation Recall: tensor(0., device='cuda:0')\n",
      "Epoch 6: Validation AUROC: tensor(0., device='cuda:0')\n"
     ]
    },
    {
     "name": "stderr",
     "output_type": "stream",
     "text": [
      "\n",
      "raining: 100%|████████████████████████████████████████████████████████████████████| 1068/1068 [00:55<00:00, 19.37it/s]"
     ]
    },
    {
     "name": "stdout",
     "output_type": "stream",
     "text": [
      "Epoch 7: Training Loss: 0.6932987929060218\n"
     ]
    },
    {
     "name": "stderr",
     "output_type": "stream",
     "text": [
      "\n",
      "alidation: 100%|████████████████████████████████████████████████████████████████████| 267/267 [00:26<00:00, 10.03it/s]"
     ]
    },
    {
     "name": "stdout",
     "output_type": "stream",
     "text": [
      "Epoch 7: Validation Accuracy: tensor(0.5056, device='cuda:0')\n",
      "Epoch 7: Validation Precision: tensor(0., device='cuda:0')\n",
      "Epoch 7: Validation Recall: tensor(0., device='cuda:0')\n",
      "Epoch 7: Validation AUROC: tensor(0., device='cuda:0')\n"
     ]
    },
    {
     "name": "stderr",
     "output_type": "stream",
     "text": [
      "\n",
      "raining: 100%|████████████████████████████████████████████████████████████████████| 1068/1068 [00:53<00:00, 20.07it/s]"
     ]
    },
    {
     "name": "stdout",
     "output_type": "stream",
     "text": [
      "Epoch 8: Training Loss: 0.6931857895315363\n"
     ]
    },
    {
     "name": "stderr",
     "output_type": "stream",
     "text": [
      "\n",
      "alidation: 100%|████████████████████████████████████████████████████████████████████| 267/267 [00:28<00:00,  9.45it/s]"
     ]
    },
    {
     "name": "stdout",
     "output_type": "stream",
     "text": [
      "Epoch 8: Validation Accuracy: tensor(0.5056, device='cuda:0')\n",
      "Epoch 8: Validation Precision: tensor(0., device='cuda:0')\n",
      "Epoch 8: Validation Recall: tensor(0., device='cuda:0')\n",
      "Epoch 8: Validation AUROC: tensor(0., device='cuda:0')\n"
     ]
    },
    {
     "name": "stderr",
     "output_type": "stream",
     "text": [
      "\n",
      "raining: 100%|████████████████████████████████████████████████████████████████████| 1068/1068 [00:55<00:00, 19.33it/s]"
     ]
    },
    {
     "name": "stdout",
     "output_type": "stream",
     "text": [
      "Epoch 9: Training Loss: 0.6931075874562567\n"
     ]
    },
    {
     "name": "stderr",
     "output_type": "stream",
     "text": [
      "Validation: 100%|████████████████████████████████████████████████████████████████████| 267/267 [00:30<00:00,  8.68it/s]"
     ]
    },
    {
     "name": "stdout",
     "output_type": "stream",
     "text": [
      "Epoch 9: Validation Accuracy: tensor(0.5618, device='cuda:0')\n",
      "Epoch 9: Validation Precision: tensor(0.1236, device='cuda:0')\n",
      "Epoch 9: Validation Recall: tensor(0.1236, device='cuda:0')\n",
      "Epoch 9: Validation AUROC: tensor(0., device='cuda:0')\n"
     ]
    },
    {
     "name": "stderr",
     "output_type": "stream",
     "text": [
      "\n"
     ]
    }
   ],
   "source": [
    "params = model.parameters()\n",
    "optimizer = torch.optim.Adam(params, lr=5e-2)\n",
    "scheduler = torch.optim.lr_scheduler.StepLR(optimizer, step_size=1, gamma=0.5)\n",
    "\n",
    "num_epochs = 10\n",
    "for epoch in range(num_epochs):\n",
    "    tr_loss = 0\n",
    "    nb_tr_steps = 0\n",
    "    for x, y in tqdm(train_dataloader, desc='Training: '):\n",
    "        x = x.to(device)\n",
    "        y = y.to(device)\n",
    "        \n",
    "        optimizer.zero_grad()\n",
    "\n",
    "        try:\n",
    "            logits = model(x)\n",
    "        except Exception as e:\n",
    "            print(x.shape, y, f)\n",
    "            raise e\n",
    "\n",
    "        loss = F.cross_entropy(logits, y)\n",
    "\n",
    "        loss.backward()\n",
    "        \n",
    "        optimizer.step()\n",
    "\n",
    "        tr_loss += loss.item()\n",
    "        nb_tr_steps += 1\n",
    "    scheduler.step()\n",
    "\n",
    "    print(f'Epoch {epoch}: Training Loss:', tr_loss / nb_tr_steps)\n",
    "\n",
    "    model.eval()\n",
    "    val_acc = []\n",
    "    val_prec = []\n",
    "    val_rec = []\n",
    "    val_auroc = []\n",
    "    for x, y in tqdm(validation_dataloader, desc='Validation'):\n",
    "        x = x.to(device)\n",
    "        y = y.to(device)\n",
    "        \n",
    "        logits = model(x)\n",
    "        prediction = torch.argmax(logits, dim=-1)\n",
    "\n",
    "        val_acc.append(accuracy(prediction, y))\n",
    "        val_prec.append(precision(prediction, y))\n",
    "        val_rec.append(recall(prediction, y))\n",
    "        val_auroc.append(auroc(prediction, y))\n",
    "\n",
    "    print(f'Epoch {epoch}: Validation Accuracy:', sum(val_acc) / len(val_acc))\n",
    "    print(f'Epoch {epoch}: Validation Precision:', sum(val_prec) / len(val_prec))\n",
    "    print(f'Epoch {epoch}: Validation Recall:', sum(val_rec) / len(val_rec))\n",
    "    print(f'Epoch {epoch}: Validation AUROC:', sum(val_auroc) / len(val_auroc))"
   ]
  },
  {
   "cell_type": "code",
   "execution_count": null,
   "id": "ce75fd2c-3e2c-4a7a-ba35-44cd29052f23",
   "metadata": {},
   "outputs": [],
   "source": [
    "# Test set\n",
    "test_dataset = AllAttentionMapDataset(Path.home() / \"Downloads/mmlu_output/\", Path.home() / \"Downloads/mmlu_attention_files_testset.txt\", transform=transform)\n",
    "\n",
    "# Randomly split into training and test set\n",
    "indices = torch.randperm(len(dataset)).tolist()\n",
    "split_idx = int(len(indices) * 0.8)\n",
    "training_data = torch.utils.data.Subset(dataset, indices[:split_idx])\n",
    "validation_data = torch.utils.data.Subset(dataset, indices[split_idx:])"
   ]
  },
  {
   "cell_type": "code",
   "execution_count": null,
   "id": "4c686ce1-539c-4eb8-aa8e-71ad77c53db9",
   "metadata": {},
   "outputs": [],
   "source": [
    "model.eval()\n",
    "val_acc = []\n",
    "val_prec = []\n",
    "val_rec = []\n",
    "val_auroc = []\n",
    "for x, y in tqdm(test_dataloader, desc='Validation'):\n",
    "    x = x.to(device)\n",
    "    y = y.to(device)\n",
    "    \n",
    "    logits = model(x)\n",
    "    prediction = torch.argmax(logits, dim=-1)\n",
    "\n",
    "    val_acc.append(accuracy(prediction, y))\n",
    "    val_prec.append(precision(prediction, y))\n",
    "    val_rec.append(recall(prediction, y))\n",
    "    val_auroc.append(auroc(prediction, y))\n",
    "\n",
    "print(f'Epoch {epoch}: Validation Accuracy:', sum(val_acc) / len(val_acc))\n",
    "print(f'Epoch {epoch}: Validation Precision:', sum(val_prec) / len(val_prec))\n",
    "print(f'Epoch {epoch}: Validation Recall:', sum(val_rec) / len(val_rec))\n",
    "print(f'Epoch {epoch}: Validation AUROC:', sum(val_auroc) / len(val_auroc))"
   ]
  }
 ],
 "metadata": {
  "kernelspec": {
   "display_name": "Python 3 (ipykernel)",
   "language": "python",
   "name": "python3"
  },
  "language_info": {
   "codemirror_mode": {
    "name": "ipython",
    "version": 3
   },
   "file_extension": ".py",
   "mimetype": "text/x-python",
   "name": "python",
   "nbconvert_exporter": "python",
   "pygments_lexer": "ipython3",
   "version": "3.9.21"
  }
 },
 "nbformat": 4,
 "nbformat_minor": 5
}
